{
 "cells": [
  {
   "cell_type": "code",
   "execution_count": 1,
   "metadata": {},
   "outputs": [
    {
     "name": "stderr",
     "output_type": "stream",
     "text": [
      "/Users/alan/Library/Python/3.9/lib/python/site-packages/urllib3/__init__.py:34: NotOpenSSLWarning: urllib3 v2.0 only supports OpenSSL 1.1.1+, currently the 'ssl' module is compiled with 'LibreSSL 2.8.3'. See: https://github.com/urllib3/urllib3/issues/3020\n",
      "  warnings.warn(\n"
     ]
    },
    {
     "data": {
      "text/plain": [
       "'2.3.0'"
      ]
     },
     "execution_count": 1,
     "metadata": {},
     "output_type": "execute_result"
    }
   ],
   "source": [
    "import torch\n",
    "from torch.utils.data import DataLoader\n",
    "import numpy as np\n",
    "import pandas as pd\n",
    "from datasets import load_dataset\n",
    "from transformers import AutoTokenizer, MegaForSequenceClassification\n",
    "import torchinfo\n",
    "from tqdm.auto import tqdm\n",
    "import evaluate\n",
    "import matplotlib.pyplot as plt\n",
    "from transformers import get_scheduler\n",
    "from torch.optim import AdamW\n",
    "torch.__version__"
   ]
  },
  {
   "cell_type": "code",
   "execution_count": 2,
   "metadata": {},
   "outputs": [
    {
     "data": {
      "text/plain": [
       "device(type='cpu')"
      ]
     },
     "execution_count": 2,
     "metadata": {},
     "output_type": "execute_result"
    }
   ],
   "source": [
    "device = torch.device(\"cpu\")\n",
    "device"
   ]
  },
  {
   "cell_type": "code",
   "execution_count": 3,
   "metadata": {},
   "outputs": [
    {
     "name": "stderr",
     "output_type": "stream",
     "text": [
      "Some weights of MegaForSequenceClassification were not initialized from the model checkpoint at mnaylor/mega-base-wikitext and are newly initialized: ['classifier.dense.bias', 'classifier.dense.weight', 'classifier.out_proj.bias', 'classifier.out_proj.weight']\n",
      "You should probably TRAIN this model on a down-stream task to be able to use it for predictions and inference.\n"
     ]
    },
    {
     "data": {
      "text/plain": [
       "MegaForSequenceClassification(\n",
       "  (mega): MegaModel(\n",
       "    (embedding_layer): MegaEmbeddings(\n",
       "      (word_embeddings): Embedding(50265, 128, padding_idx=1)\n",
       "    )\n",
       "    (layers): ModuleList(\n",
       "      (0-3): 4 x MegaBlock(\n",
       "        (mega_layer): MegaMovingAverageGatedAttention(\n",
       "          (activation): SiLU()\n",
       "          (dropout): MegaDropout()\n",
       "          (hidden_dropout): MegaDropout()\n",
       "          (attention_dropout): MegaDropout()\n",
       "          (norm): MegaSequenceNorm(\n",
       "            (norm): MegaScaleNorm()\n",
       "          )\n",
       "          (ema_gate): MegaMultiDimensionDampedEma()\n",
       "          (v_proj): Linear(in_features=128, out_features=256, bias=True)\n",
       "          (mx_proj): Linear(in_features=128, out_features=576, bias=True)\n",
       "          (h_proj): Linear(in_features=256, out_features=128, bias=True)\n",
       "          (rel_pos_bias): MegaRotaryRelativePositionalBias()\n",
       "          (softmax): Softmax(dim=-1)\n",
       "        )\n",
       "        (nffn): MegaNormalizedFeedForwardNetwork(\n",
       "          (activation): SiLU()\n",
       "          (dropout): MegaDropout()\n",
       "          (hidden_dropout): MegaDropout()\n",
       "          (norm): MegaSequenceNorm(\n",
       "            (norm): MegaScaleNorm()\n",
       "          )\n",
       "          (fc1): Linear(in_features=128, out_features=256, bias=True)\n",
       "          (fc2): Linear(in_features=256, out_features=128, bias=True)\n",
       "        )\n",
       "      )\n",
       "    )\n",
       "  )\n",
       "  (classifier): MegaClassificationHead(\n",
       "    (dense): Linear(in_features=128, out_features=128, bias=True)\n",
       "    (dropout): Dropout(p=0.1, inplace=False)\n",
       "    (out_proj): Linear(in_features=128, out_features=3, bias=True)\n",
       "  )\n",
       ")"
      ]
     },
     "execution_count": 3,
     "metadata": {},
     "output_type": "execute_result"
    }
   ],
   "source": [
    "tokenizer = AutoTokenizer.from_pretrained(\"mnaylor/mega-base-wikitext\")\n",
    "model = MegaForSequenceClassification.from_pretrained(\"mnaylor/mega-base-wikitext\")\n",
    "model.classifier.out_proj = torch.nn.Linear(in_features=128, out_features=3, bias=True)\n",
    "model.to(device)"
   ]
  },
  {
   "cell_type": "code",
   "execution_count": 4,
   "metadata": {},
   "outputs": [
    {
     "data": {
      "text/plain": [
       "==========================================================================================\n",
       "Layer (type:depth-idx)                                            Param #\n",
       "==========================================================================================\n",
       "MegaForSequenceClassification                                     --\n",
       "├─MegaModel: 1-1                                                  --\n",
       "│    └─MegaEmbeddings: 2-1                                        --\n",
       "│    │    └─Embedding: 3-1                                        6,433,920\n",
       "│    └─ModuleList: 2-2                                            --\n",
       "│    │    └─MegaBlock: 3-2                                        223,042\n",
       "│    │    └─MegaBlock: 3-3                                        223,042\n",
       "│    │    └─MegaBlock: 3-4                                        223,042\n",
       "│    │    └─MegaBlock: 3-5                                        223,042\n",
       "├─MegaClassificationHead: 1-2                                     --\n",
       "│    └─Linear: 2-3                                                16,512\n",
       "│    └─Dropout: 2-4                                               --\n",
       "│    └─Linear: 2-5                                                387\n",
       "==========================================================================================\n",
       "Total params: 7,342,987\n",
       "Trainable params: 7,342,987\n",
       "Non-trainable params: 0\n",
       "=========================================================================================="
      ]
     },
     "execution_count": 4,
     "metadata": {},
     "output_type": "execute_result"
    }
   ],
   "source": [
    "torchinfo.summary(model)"
   ]
  },
  {
   "cell_type": "code",
   "execution_count": 5,
   "metadata": {},
   "outputs": [
    {
     "data": {
      "text/plain": [
       "RobertaTokenizerFast(name_or_path='mnaylor/mega-base-wikitext', vocab_size=50265, model_max_length=512, is_fast=True, padding_side='right', truncation_side='right', special_tokens={'bos_token': '<s>', 'eos_token': '</s>', 'unk_token': '<unk>', 'sep_token': '</s>', 'pad_token': '<pad>', 'cls_token': '<s>', 'mask_token': '<mask>'}, clean_up_tokenization_spaces=True),  added_tokens_decoder={\n",
       "\t0: AddedToken(\"<s>\", rstrip=False, lstrip=False, single_word=False, normalized=False, special=True),\n",
       "\t1: AddedToken(\"<pad>\", rstrip=False, lstrip=False, single_word=False, normalized=False, special=True),\n",
       "\t2: AddedToken(\"</s>\", rstrip=False, lstrip=False, single_word=False, normalized=False, special=True),\n",
       "\t3: AddedToken(\"<unk>\", rstrip=False, lstrip=False, single_word=False, normalized=False, special=True),\n",
       "\t50264: AddedToken(\"<mask>\", rstrip=False, lstrip=True, single_word=False, normalized=False, special=True),\n",
       "}"
      ]
     },
     "execution_count": 5,
     "metadata": {},
     "output_type": "execute_result"
    }
   ],
   "source": [
    "tokenizer"
   ]
  },
  {
   "cell_type": "code",
   "execution_count": 6,
   "metadata": {},
   "outputs": [
    {
     "name": "stdout",
     "output_type": "stream",
     "text": [
      "{'idx': 0, 'count': 3, 'hate_speech': 0, 'offensive_language': 0, 'neither': 3, 'class': 2, 'tweet': \"!!! RT @mayasolovely: As a woman you shouldn't complain about cleaning up your house. &amp; as a man you should always take the trash out...\"}\n",
      "{'idx': 0, 'count': 3, 'hate_speech': 0, 'offensive_language': 0, 'neither': 1, 'class': 2, 'tweet': \"!!! RT @mayasolovely: As a woman you shouldn't complain about cleaning up your house. &amp; as a man you should always take the trash out...\"}\n"
     ]
    }
   ],
   "source": [
    "data_check_test = load_dataset(\n",
    "    \"csv\", data_files=\"data/tweets.csv\"\n",
    "    )\n",
    "print(data_check_test['train'][0])\n",
    "\n",
    "def preprocess_function(examples):\n",
    "    # Add your binary labels based on the 'class' column\n",
    "    examples['hate_speech'] = 1 if examples['class'] == 0 else 0\n",
    "    examples['offensive_language'] = 1 if examples['class'] == 1 else 0\n",
    "    examples['neither'] = 1 if examples['class'] == 2 else 0\n",
    "    return examples\n",
    "\n",
    "data_check_test = data_check_test.map(preprocess_function)\n",
    "print(data_check_test['train'][0])\n",
    "# Dataset only have training data, hence split it into train/test\n",
    "data_check_test = data_check_test['train'].train_test_split(test_size=0.25)"
   ]
  },
  {
   "cell_type": "code",
   "execution_count": 7,
   "metadata": {},
   "outputs": [],
   "source": [
    "def tokenize_func(examples):\n",
    "    #  padding: 'max_length': pad to a length specified by the max_length argument or the\n",
    "    #  maximum length accepted by the model if no max_length is provided (max_length=None).\n",
    "    #  Padding will still be applied if you only provide a single sequence. [from documentation]\n",
    "\n",
    "\n",
    "    #  truncation: True or 'longest_first': truncate to a maximum length specified\n",
    "    #  by the max_length argument or the maximum length accepted by the model if\n",
    "    #  no max_length is provided (max_length=None). This will truncate token by\n",
    "    #  token, removing a token from the longest sequence in the pair until the\n",
    "    #  proper length is reached. [from documentation]\n",
    "    return tokenizer(\n",
    "        examples[\"tweet\"], padding=\"max_length\", truncation=True\n",
    "        )"
   ]
  },
  {
   "cell_type": "code",
   "execution_count": 8,
   "metadata": {},
   "outputs": [
    {
     "data": {
      "application/vnd.jupyter.widget-view+json": {
       "model_id": "43b523c40eed4ca3bc6b0b149d7537f6",
       "version_major": 2,
       "version_minor": 0
      },
      "text/plain": [
       "Map:   0%|          | 0/18587 [00:00<?, ? examples/s]"
      ]
     },
     "metadata": {},
     "output_type": "display_data"
    },
    {
     "data": {
      "application/vnd.jupyter.widget-view+json": {
       "model_id": "8948bb4683344c3e9d32640eeb17f47d",
       "version_major": 2,
       "version_minor": 0
      },
      "text/plain": [
       "Map:   0%|          | 0/6196 [00:00<?, ? examples/s]"
      ]
     },
     "metadata": {},
     "output_type": "display_data"
    }
   ],
   "source": [
    "tokenized_data = data_check_test.map(tokenize_func, batched=True)\n"
   ]
  },
  {
   "cell_type": "code",
   "execution_count": 9,
   "metadata": {},
   "outputs": [
    {
     "name": "stdout",
     "output_type": "stream",
     "text": [
      "DatasetDict({\n",
      "    train: Dataset({\n",
      "        features: ['idx', 'count', 'hate_speech', 'offensive_language', 'neither', 'class', 'tweet', 'input_ids', 'attention_mask'],\n",
      "        num_rows: 18587\n",
      "    })\n",
      "    test: Dataset({\n",
      "        features: ['idx', 'count', 'hate_speech', 'offensive_language', 'neither', 'class', 'tweet', 'input_ids', 'attention_mask'],\n",
      "        num_rows: 6196\n",
      "    })\n",
      "})\n",
      "{'idx': 1432, 'class': 1, 'input_ids': [0, 947, 10431, 6551, 844, 131, 1039, 18764, 967, 35634, 260, 100, 397, 118, 35, 787, 134, 387, 438, 24391, 46130, 6, 47, 3568, 10, 1836, 195, 734, 100, 437, 11, 10, 316, 947, 10431, 398, 28730, 131, 100, 437, 23, 10, 231, 122, 202, 1197, 2, 1, 1, 1, 1, 1, 1, 1, 1, 1, 1, 1, 1, 1, 1, 1, 1, 1, 1, 1, 1, 1, 1, 1, 1, 1, 1, 1, 1, 1, 1, 1, 1, 1, 1, 1, 1, 1, 1, 1, 1, 1, 1, 1, 1, 1, 1, 1, 1, 1, 1, 1, 1, 1, 1, 1, 1, 1, 1, 1, 1, 1, 1, 1, 1, 1, 1, 1, 1, 1, 1, 1, 1, 1, 1, 1, 1, 1, 1, 1, 1, 1, 1, 1, 1, 1, 1, 1, 1, 1, 1, 1, 1, 1, 1, 1, 1, 1, 1, 1, 1, 1, 1, 1, 1, 1, 1, 1, 1, 1, 1, 1, 1, 1, 1, 1, 1, 1, 1, 1, 1, 1, 1, 1, 1, 1, 1, 1, 1, 1, 1, 1, 1, 1, 1, 1, 1, 1, 1, 1, 1, 1, 1, 1, 1, 1, 1, 1, 1, 1, 1, 1, 1, 1, 1, 1, 1, 1, 1, 1, 1, 1, 1, 1, 1, 1, 1, 1, 1, 1, 1, 1, 1, 1, 1, 1, 1, 1, 1, 1, 1, 1, 1, 1, 1, 1, 1, 1, 1, 1, 1, 1, 1, 1, 1, 1, 1, 1, 1, 1, 1, 1, 1, 1, 1, 1, 1, 1, 1, 1, 1, 1, 1, 1, 1, 1, 1, 1, 1, 1, 1, 1, 1, 1, 1, 1, 1, 1, 1, 1, 1, 1, 1, 1, 1, 1, 1, 1, 1, 1, 1, 1, 1, 1, 1, 1, 1, 1, 1, 1, 1, 1, 1, 1, 1, 1, 1, 1, 1, 1, 1, 1, 1, 1, 1, 1, 1, 1, 1, 1, 1, 1, 1, 1, 1, 1, 1, 1, 1, 1, 1, 1, 1, 1, 1, 1, 1, 1, 1, 1, 1, 1, 1, 1, 1, 1, 1, 1, 1, 1, 1, 1, 1, 1, 1, 1, 1, 1, 1, 1, 1, 1, 1, 1, 1, 1, 1, 1, 1, 1, 1, 1, 1, 1, 1, 1, 1, 1, 1, 1, 1, 1, 1, 1, 1, 1, 1, 1, 1, 1, 1, 1, 1, 1, 1, 1, 1, 1, 1, 1, 1, 1, 1, 1, 1, 1, 1, 1, 1, 1, 1, 1, 1, 1, 1, 1, 1, 1, 1, 1, 1, 1, 1, 1, 1, 1, 1, 1, 1, 1, 1, 1, 1, 1, 1, 1, 1, 1, 1, 1, 1, 1, 1, 1, 1, 1, 1, 1, 1, 1, 1, 1, 1, 1, 1, 1, 1, 1, 1, 1, 1, 1, 1, 1, 1, 1, 1, 1, 1, 1, 1, 1, 1, 1, 1, 1, 1, 1, 1, 1, 1, 1, 1, 1, 1, 1, 1, 1, 1, 1, 1, 1, 1, 1, 1, 1, 1, 1, 1, 1, 1, 1, 1, 1, 1, 1, 1, 1, 1, 1, 1, 1, 1, 1, 1, 1], 'attention_mask': [1, 1, 1, 1, 1, 1, 1, 1, 1, 1, 1, 1, 1, 1, 1, 1, 1, 1, 1, 1, 1, 1, 1, 1, 1, 1, 1, 1, 1, 1, 1, 1, 1, 1, 1, 1, 1, 1, 1, 1, 1, 1, 1, 1, 1, 1, 1, 0, 0, 0, 0, 0, 0, 0, 0, 0, 0, 0, 0, 0, 0, 0, 0, 0, 0, 0, 0, 0, 0, 0, 0, 0, 0, 0, 0, 0, 0, 0, 0, 0, 0, 0, 0, 0, 0, 0, 0, 0, 0, 0, 0, 0, 0, 0, 0, 0, 0, 0, 0, 0, 0, 0, 0, 0, 0, 0, 0, 0, 0, 0, 0, 0, 0, 0, 0, 0, 0, 0, 0, 0, 0, 0, 0, 0, 0, 0, 0, 0, 0, 0, 0, 0, 0, 0, 0, 0, 0, 0, 0, 0, 0, 0, 0, 0, 0, 0, 0, 0, 0, 0, 0, 0, 0, 0, 0, 0, 0, 0, 0, 0, 0, 0, 0, 0, 0, 0, 0, 0, 0, 0, 0, 0, 0, 0, 0, 0, 0, 0, 0, 0, 0, 0, 0, 0, 0, 0, 0, 0, 0, 0, 0, 0, 0, 0, 0, 0, 0, 0, 0, 0, 0, 0, 0, 0, 0, 0, 0, 0, 0, 0, 0, 0, 0, 0, 0, 0, 0, 0, 0, 0, 0, 0, 0, 0, 0, 0, 0, 0, 0, 0, 0, 0, 0, 0, 0, 0, 0, 0, 0, 0, 0, 0, 0, 0, 0, 0, 0, 0, 0, 0, 0, 0, 0, 0, 0, 0, 0, 0, 0, 0, 0, 0, 0, 0, 0, 0, 0, 0, 0, 0, 0, 0, 0, 0, 0, 0, 0, 0, 0, 0, 0, 0, 0, 0, 0, 0, 0, 0, 0, 0, 0, 0, 0, 0, 0, 0, 0, 0, 0, 0, 0, 0, 0, 0, 0, 0, 0, 0, 0, 0, 0, 0, 0, 0, 0, 0, 0, 0, 0, 0, 0, 0, 0, 0, 0, 0, 0, 0, 0, 0, 0, 0, 0, 0, 0, 0, 0, 0, 0, 0, 0, 0, 0, 0, 0, 0, 0, 0, 0, 0, 0, 0, 0, 0, 0, 0, 0, 0, 0, 0, 0, 0, 0, 0, 0, 0, 0, 0, 0, 0, 0, 0, 0, 0, 0, 0, 0, 0, 0, 0, 0, 0, 0, 0, 0, 0, 0, 0, 0, 0, 0, 0, 0, 0, 0, 0, 0, 0, 0, 0, 0, 0, 0, 0, 0, 0, 0, 0, 0, 0, 0, 0, 0, 0, 0, 0, 0, 0, 0, 0, 0, 0, 0, 0, 0, 0, 0, 0, 0, 0, 0, 0, 0, 0, 0, 0, 0, 0, 0, 0, 0, 0, 0, 0, 0, 0, 0, 0, 0, 0, 0, 0, 0, 0, 0, 0, 0, 0, 0, 0, 0, 0, 0, 0, 0, 0, 0, 0, 0, 0, 0, 0, 0, 0, 0, 0, 0, 0, 0, 0, 0, 0, 0, 0, 0, 0, 0, 0, 0, 0, 0, 0, 0, 0, 0, 0, 0, 0, 0, 0, 0, 0, 0, 0, 0, 0, 0, 0, 0, 0, 0, 0]}\n"
     ]
    }
   ],
   "source": [
    "print(tokenized_data)\n",
    "tokenized_data = tokenized_data.remove_columns([ \"count\", \"tweet\", \"hate_speech\", \"offensive_language\", \"neither\"])\n",
    "print(tokenized_data['train'][0])\n",
    "tokenized_data.set_format(\"torch\")"
   ]
  },
  {
   "cell_type": "code",
   "execution_count": 10,
   "metadata": {},
   "outputs": [
    {
     "name": "stdout",
     "output_type": "stream",
     "text": [
      "dict_keys(['idx', 'class', 'input_ids', 'attention_mask'])\n"
     ]
    }
   ],
   "source": [
    "train_dataloader = DataLoader(tokenized_data['train'], batch_size=8)\n",
    "test_dataloader = DataLoader(tokenized_data['test'], batch_size=1)\n",
    "\n",
    "dataiter = iter(test_dataloader)\n",
    "batch_data= next(dataiter)\n",
    "\n",
    "print(batch_data.keys())"
   ]
  },
  {
   "cell_type": "markdown",
   "metadata": {},
   "source": [
    "## FINE TUNE"
   ]
  },
  {
   "cell_type": "code",
   "execution_count": 11,
   "metadata": {},
   "outputs": [],
   "source": [
    "def custom_loss(input, target, lam):\n",
    "    with torch.no_grad():\n",
    "            _, preds = torch.max(input, 1)\n",
    "    print(preds)\n",
    "    loss = 0\n",
    "    for i, pred in enumerate(preds):\n",
    "        if pred == 2 and (target[i] == 0 or target[i] == 1):\n",
    "            loss += lam * torch.nn.CrossEntropyLoss(input[i], target[i])\n",
    "        elif pred == 1 and target[i] == 2:\n",
    "            loss += lam/2 * torch.nn.CrossEntropyLoss(input[i], target[i])\n",
    "        else:\n",
    "            loss += torch.nn.CrossEntropyLoss(input[i], target[i])\n",
    "    return loss"
   ]
  },
  {
   "cell_type": "code",
   "execution_count": 12,
   "metadata": {},
   "outputs": [],
   "source": [
    "def custom_loss(input, target, lam):\n",
    "    with torch.no_grad():\n",
    "        _, preds = torch.max(input, 1)\n",
    "    \n",
    "        # Mask for the conditions\n",
    "        mask_pred2 = (preds == 2) & ((target == 0) | (target == 1)) # most critic, we predict nothing and there is hate/offensive speech\n",
    "        mask_pred1 = (preds == 1) & (target == 2) # we predict offensiv but there is hate\n",
    "        mask_else = ~(mask_pred2 | mask_pred1) # other cases\n",
    "        \n",
    "        is_empty_pred2 = torch.all(~mask_pred2)\n",
    "        is_empty_pred1 = torch.all(~mask_pred1)\n",
    "        is_empty_else = torch.all(~mask_else)\n",
    "\n",
    "    loss = torch.tensor(0.0)\n",
    "\n",
    "    if not is_empty_pred2:\n",
    "        loss_pred2 = lam * torch.sum(torch.nn.CrossEntropyLoss()(input[mask_pred2], target[mask_pred2]))\n",
    "        loss += loss_pred2\n",
    "\n",
    "    if not is_empty_pred1:\n",
    "        loss_pred1 = lam/2 * torch.sum(torch.nn.CrossEntropyLoss()(input[mask_pred1], target[mask_pred1]))\n",
    "        loss += loss_pred1\n",
    "\n",
    "    if not is_empty_else:\n",
    "        loss_else = torch.sum(torch.nn.CrossEntropyLoss()(input[mask_else], target[mask_else]))\n",
    "        loss += loss_else\n",
    "\n",
    "    return loss"
   ]
  },
  {
   "cell_type": "code",
   "execution_count": 15,
   "metadata": {},
   "outputs": [
    {
     "data": {
      "application/vnd.jupyter.widget-view+json": {
       "model_id": "69b73225023b42268764e4d9178be9ff",
       "version_major": 2,
       "version_minor": 0
      },
      "text/plain": [
       "  0%|          | 0/2324 [00:00<?, ?it/s]"
      ]
     },
     "metadata": {},
     "output_type": "display_data"
    },
    {
     "data": {
      "application/vnd.jupyter.widget-view+json": {
       "model_id": "1f5979659765429c8a1e3d0ce2f78e12",
       "version_major": 2,
       "version_minor": 0
      },
      "text/plain": [
       "  0%|          | 0/775 [00:00<?, ?it/s]"
      ]
     },
     "metadata": {},
     "output_type": "display_data"
    },
    {
     "name": "stdout",
     "output_type": "stream",
     "text": [
      "Epoch 1 accuracy: train=0.188, test=0.188\n"
     ]
    },
    {
     "data": {
      "application/vnd.jupyter.widget-view+json": {
       "model_id": "316a7a74b6d943079b5d848959462100",
       "version_major": 2,
       "version_minor": 0
      },
      "text/plain": [
       "  0%|          | 0/2324 [00:00<?, ?it/s]"
      ]
     },
     "metadata": {},
     "output_type": "display_data"
    },
    {
     "data": {
      "application/vnd.jupyter.widget-view+json": {
       "model_id": "387546e601784d6289ab848e33b62934",
       "version_major": 2,
       "version_minor": 0
      },
      "text/plain": [
       "  0%|          | 0/775 [00:00<?, ?it/s]"
      ]
     },
     "metadata": {},
     "output_type": "display_data"
    },
    {
     "name": "stdout",
     "output_type": "stream",
     "text": [
      "Epoch 2 accuracy: train=0.769, test=0.779\n"
     ]
    }
   ],
   "source": [
    "\n",
    "\n",
    "def train_epoch(model, train_dataloader, optimizer, lr_scheduler, criterion, lam):\n",
    "    progress_bar = tqdm(range(len(train_dataloader)))\n",
    "    metric = evaluate.load(\"accuracy\")\n",
    "    model.train()\n",
    "\n",
    "    epoch_loss = 0\n",
    "    for batch in train_dataloader:\n",
    "        input = batch[\"input_ids\"]\n",
    "        mask = batch[\"attention_mask\"]\n",
    "        y = batch[\"class\"]\n",
    "\n",
    "        outputs = model(input, attention_mask=mask)\n",
    "\n",
    "        with torch.no_grad():\n",
    "            _, preds = torch.max(outputs.logits, 1)\n",
    "\n",
    "        #loss = criterion(outputs.logits, y, lam)\n",
    "        criterion = torch.nn.CrossEntropyLoss()\n",
    "        loss = criterion(outputs.logits, y)\n",
    "        \n",
    "        loss.backward()\n",
    "        optimizer.step()\n",
    "        optimizer.zero_grad()\n",
    "        \n",
    "        \n",
    "        metric.add_batch(predictions=preds, references=y)\n",
    "\n",
    "        epoch_loss += loss.item()\n",
    "        progress_bar.update(1)\n",
    "    lr_scheduler.step()\n",
    "    epoch_loss /= len(train_dataloader)\n",
    "    accuracy = metric.compute()['accuracy']\n",
    "\n",
    "    return epoch_loss, accuracy\n",
    "\n",
    "def eval(model, test_dataloader, criterion, lam):\n",
    "    progress_bar = tqdm(range(len(test_dataloader)))\n",
    "    metric = evaluate.load(\"accuracy\")\n",
    "    model.eval()\n",
    "\n",
    "    epoch_loss = 0\n",
    "    for batch in test_dataloader:\n",
    "        input = batch[\"input_ids\"]\n",
    "        mask = batch[\"attention_mask\"]\n",
    "        y = batch[\"class\"]\n",
    "        \n",
    "        with torch.no_grad():\n",
    "            outputs = model(input, attention_mask=mask)\n",
    "\n",
    "        logits = outputs.logits\n",
    "        #loss = criterion(outputs.logits, y, lam)\n",
    "        criterion = torch.nn.CrossEntropyLoss()\n",
    "        loss = criterion(outputs.logits, y)\n",
    "\n",
    "        predictions = torch.argmax(logits, dim=-1)\n",
    "\n",
    "        metric.add_batch(predictions=predictions, references=y)\n",
    "\n",
    "        epoch_loss += loss.item()\n",
    "        progress_bar.update(1)\n",
    "\n",
    "    epoch_loss /= len(test_dataloader)\n",
    "    accuracy = metric.compute()['accuracy']\n",
    "    \n",
    "    return epoch_loss, accuracy\n",
    "\n",
    "def train(model,\n",
    "          train_dataloader,\n",
    "          test_dataloader,\n",
    "          optimizer,\n",
    "          lr_scheduler,\n",
    "          criterion,\n",
    "          lam,\n",
    "          num_epochs=3,\n",
    "          patience=3):\n",
    "\n",
    "    # count epochs where the model didn't improve\n",
    "    counter = 0\n",
    "    best_val_acc = 0\n",
    "    best_epoch = 0\n",
    "    best_model = None\n",
    "\n",
    "\n",
    "    train_accuracies = []\n",
    "    val_accuracies = []\n",
    "    train_losses = []\n",
    "    val_losses = []\n",
    "    for epoch in range(num_epochs):\n",
    "        if epoch < 3:\n",
    "            model.mega.requires_grad_(False)\n",
    "        else:\n",
    "            model.mega.requires_grad_(True)\n",
    "        train_loss, train_acc = train_epoch(\n",
    "            model, train_dataloader, optimizer, lr_scheduler, criterion, lam)\n",
    "        val_loss, val_acc = eval(model, test_dataloader, criterion, lam)\n",
    "\n",
    "        print(f\"Epoch {epoch+1} accuracy: train={train_acc:.3f}, test={val_acc:.3f}\")\n",
    "\n",
    "        train_accuracies.append(train_acc)\n",
    "        val_accuracies.append(val_acc)\n",
    "\n",
    "        train_losses.append(train_loss)\n",
    "        val_losses.append(val_loss)\n",
    "\n",
    "        # early stopping\n",
    "        # TODO: check if val_acc <= best_val_acc + some minimum increase\n",
    "        if val_acc <= best_val_acc + 1e-4:\n",
    "            counter += 1\n",
    "            if counter >= patience:\n",
    "                break\n",
    "        else:\n",
    "            best_val_acc = val_acc\n",
    "            counter = 0\n",
    "            best_epoch = epoch\n",
    "            best_model = model.state_dict()\n",
    "\n",
    "    return train_accuracies, val_accuracies, train_losses, val_losses, best_epoch, best_model\n",
    "\n",
    "\n",
    "\n",
    "\n",
    "num_epochs = 2\n",
    "optimizer = AdamW(model.parameters(), lr=5e-5)\n",
    "# feel free to experiment with different num_warmup_steps\n",
    "lr_scheduler = get_scheduler(\n",
    "    name=\"linear\", optimizer=optimizer, num_warmup_steps=1, num_training_steps=num_epochs*len(train_dataloader)\n",
    ")\n",
    "criterion = torch.nn.CrossEntropyLoss()\n",
    "lam = 5\n",
    "train_acc, val_acc, train_losses, val_losses, best_epoch, best_model = train(model, train_dataloader, test_dataloader, optimizer, lr_scheduler, criterion, lam, num_epochs=num_epochs, patience=3)"
   ]
  },
  {
   "cell_type": "code",
   "execution_count": 12,
   "metadata": {},
   "outputs": [
    {
     "data": {
      "image/png": "[encoded data removed]",
      "text/plain": [
       "<Figure size 1000x400 with 2 Axes>"
      ]
     },
     "metadata": {},
     "output_type": "display_data"
    }
   ],
   "source": [
    "fig, ax = plt.subplots(1,2, figsize=(10,4))\n",
    "epoch_axis = range(1, len(train_losses)+1)\n",
    "ax[0].plot(epoch_axis, train_losses, label='train')\n",
    "ax[0].plot(epoch_axis, val_losses, label='val')\n",
    "ax[0].axvline(best_epoch+1, label='best', linestyle='--')\n",
    "ax[0].set_xlabel(\"Epoch\")\n",
    "ax[0].set_ylabel(\"Loss\")\n",
    "ax[0].set_xticks(epoch_axis)\n",
    "ax[0].legend()\n",
    "\n",
    "ax[1].plot(epoch_axis, train_acc, label='train')\n",
    "ax[1].plot(epoch_axis, val_acc, label='val')\n",
    "ax[1].axvline(best_epoch+1, label='best', linestyle='--')\n",
    "ax[1].set_xlabel(\"Epoch\")\n",
    "ax[1].set_ylabel(\"Accuracy\")\n",
    "ax[1].set_xticks(epoch_axis)\n",
    "ax[1].legend()\n",
    "plt.show()"
   ]
  },
  {
   "cell_type": "code",
   "execution_count": 10,
   "metadata": {},
   "outputs": [
    {
     "ename": "NameError",
     "evalue": "name 'train_dataloader' is not defined",
     "output_type": "error",
     "traceback": [
      "\u001b[0;31m---------------------------------------------------------------------------\u001b[0m",
      "\u001b[0;31mNameError\u001b[0m                                 Traceback (most recent call last)",
      "Cell \u001b[0;32mIn[10], line 15\u001b[0m\n\u001b[1;32m     13\u001b[0m N_EPOCHS \u001b[38;5;241m=\u001b[39m \u001b[38;5;241m30\u001b[39m\n\u001b[1;32m     14\u001b[0m optimizer \u001b[38;5;241m=\u001b[39m AdamW(model\u001b[38;5;241m.\u001b[39mparameters(), lr\u001b[38;5;241m=\u001b[39m\u001b[38;5;241m5e-5\u001b[39m)\n\u001b[0;32m---> 15\u001b[0m lr_scheduler \u001b[38;5;241m=\u001b[39m {\u001b[38;5;124m\"\u001b[39m\u001b[38;5;124mlinear\u001b[39m\u001b[38;5;124m\"\u001b[39m: get_scheduler(name\u001b[38;5;241m=\u001b[39m\u001b[38;5;124m\"\u001b[39m\u001b[38;5;124mlinear\u001b[39m\u001b[38;5;124m\"\u001b[39m, optimizer\u001b[38;5;241m=\u001b[39moptimizer, num_warmup_steps\u001b[38;5;241m=\u001b[39m\u001b[38;5;241m1\u001b[39m, num_training_steps\u001b[38;5;241m=\u001b[39mN_EPOCHS\u001b[38;5;241m*\u001b[39m\u001b[38;5;28mlen\u001b[39m(\u001b[43mtrain_dataloader\u001b[49m)),\n\u001b[1;32m     16\u001b[0m                 \u001b[38;5;124m\"\u001b[39m\u001b[38;5;124mexponantial\u001b[39m\u001b[38;5;124m\"\u001b[39m: get_scheduler(name\u001b[38;5;241m=\u001b[39m\u001b[38;5;124m\"\u001b[39m\u001b[38;5;124mexponential\u001b[39m\u001b[38;5;124m\"\u001b[39m, optimizer\u001b[38;5;241m=\u001b[39moptimizer, num_warmup_steps\u001b[38;5;241m=\u001b[39m\u001b[38;5;241m1\u001b[39m, num_training_steps\u001b[38;5;241m=\u001b[39mN_EPOCHS\u001b[38;5;241m*\u001b[39m\u001b[38;5;28mlen\u001b[39m(train_dataloader)),\n\u001b[1;32m     17\u001b[0m                 }\n\u001b[1;32m     19\u001b[0m N_SEEDS \u001b[38;5;241m=\u001b[39m \u001b[38;5;241m5\u001b[39m\n\u001b[1;32m     20\u001b[0m \u001b[38;5;28;01mfor\u001b[39;00m numb, scheduler \u001b[38;5;129;01min\u001b[39;00m \u001b[38;5;28menumerate\u001b[39m(lr_scheduler):\n",
      "\u001b[0;31mNameError\u001b[0m: name 'train_dataloader' is not defined"
     ]
    }
   ],
   "source": [
    "\n",
    "best_train_accs = []\n",
    "best_train_losses = []\n",
    "best_val_accs = []\n",
    "best_val_losses = []\n",
    "\n",
    "best_epochs = []\n",
    "\n",
    "all_train_accs = []\n",
    "all_train_losses = []\n",
    "all_val_accs = []\n",
    "all_val_losses = []\n",
    "\n",
    "N_EPOCHS = 30\n",
    "optimizer = AdamW(model.parameters(), lr=5e-5)\n",
    "lr_scheduler = {\"linear\": get_scheduler(name=\"linear\", optimizer=optimizer, num_warmup_steps=1, num_training_steps=N_EPOCHS*len(train_dataloader)),\n",
    "                \"exponantial\": get_scheduler(name=\"exponential\", optimizer=optimizer, num_warmup_steps=1, num_training_steps=N_EPOCHS*len(train_dataloader)),\n",
    "                }\n",
    "\n",
    "N_SEEDS = 5\n",
    "for numb, scheduler in enumerate(lr_scheduler):\n",
    "    for seed in tqdm(range(N_SEEDS)):\n",
    "        model = MegaForSequenceClassification.from_pretrained(\"mnaylor/mega-base-wikitext\")\n",
    "        model.classifier.out_proj = torch.nn.Linear(in_features=128, out_features=3, bias=True)\n",
    "        model.to(device)\n",
    "        data_check_test = load_dataset(\n",
    "        \"csv\", data_files=\"data/tweets.csv\"\n",
    "        )\n",
    "        data_check_test = data_check_test['train'].train_test_split(test_size=0.25)\n",
    "        tokenized_data = tokenized_data.remove_columns([\n",
    "        \"idx\", \"count\", \"tweet\", \"hate_speech\", \"offensive_language\", \"neither\"])\n",
    "        tokenized_data.set_format(\"torch\")\n",
    "        train_acc, val_acc, train_losses, val_losses, best_epoch, _ = train(model, train_dataloader, test_dataloader, scheduler, N_EPOCHS, learning_rate=5e-5)\n",
    "\n",
    "        best_train_accs.append(train_acc[best_epoch])\n",
    "        best_val_accs.append(val_acc[best_epoch])\n",
    "        best_train_losses.append(train_losses[best_epoch])\n",
    "        best_val_losses.append(val_losses[best_epoch])\n",
    "        best_epochs.append(best_epoch)\n",
    "\n",
    "        all_train_accs.append(train_acc)\n",
    "        all_train_losses.append(train_losses)\n",
    "        all_val_accs.append(val_acc)\n",
    "        all_val_losses.append(val_losses)\n"
   ]
  },
  {
   "cell_type": "code",
   "execution_count": 39,
   "metadata": {},
   "outputs": [
    {
     "data": {
      "application/vnd.jupyter.widget-view+json": {
       "model_id": "a4a1fb4a6cf74aa4a52ad0c4660584cd",
       "version_major": 2,
       "version_minor": 0
      },
      "text/plain": [
       "  0%|          | 0/6196 [00:00<?, ?it/s]"
      ]
     },
     "metadata": {},
     "output_type": "display_data"
    },
    {
     "data": {
      "image/png": "[encoded data removed]",
      "text/plain": [
       "<Figure size 640x480 with 2 Axes>"
      ]
     },
     "metadata": {},
     "output_type": "display_data"
    }
   ],
   "source": [
    "from sklearn.metrics import ConfusionMatrixDisplay\n",
    "model.load_state_dict(torch.load('model_0.pth',map_location=torch.device('cpu')))\n",
    "\n",
    "\n",
    "def eval_tesl(model, test_dataloader, list):\n",
    "    progress_bar = tqdm(range(len(test_dataloader)))\n",
    "    metric = evaluate.load(\"accuracy\")\n",
    "    confusion_metric = evaluate.load(\"confusion_matrix\")\n",
    "    model.eval()\n",
    "\n",
    "    epoch_loss = 0\n",
    "\n",
    "    for batch in test_dataloader:\n",
    "        idx = batch[\"idx\"]\n",
    "        input = batch[\"input_ids\"]\n",
    "        mask = batch[\"attention_mask\"]\n",
    "        y = batch[\"class\"]\n",
    "        \n",
    "        with torch.no_grad():\n",
    "            outputs = model(input, attention_mask=mask)\n",
    "\n",
    "        logits = outputs.logits\n",
    "        #print(logits)\n",
    "        #loss = criterion(outputs.logits, y, lam)\n",
    "        criterion = torch.nn.CrossEntropyLoss()\n",
    "        loss = criterion(outputs.logits, y)\n",
    "\n",
    "        predictions = torch.argmax(logits, dim=-1)\n",
    "        if predictions != y:\n",
    "            list.append(idx)\n",
    "\n",
    "        #print(\"Predictions:\", predictions)\n",
    "        #print(\"Labels:\", y) \n",
    "\n",
    "        metric.add_batch(predictions=predictions, references=y)\n",
    "        confusion_metric.add_batch(predictions=predictions, references=y)\n",
    "\n",
    "        epoch_loss += loss.item()\n",
    "        progress_bar.update(1)\n",
    "\n",
    "    epoch_loss /= len(test_dataloader)\n",
    "    accuracy = metric.compute()['accuracy']\n",
    "    confusion_matrix = confusion_metric.compute()[\"confusion_matrix\"]\n",
    "\n",
    "\n",
    "    confusion_matrix = np.array(confusion_matrix)\n",
    "    confusion_matrix_normalized = confusion_matrix.astype('float') / confusion_matrix.sum(axis=1)[:, np.newaxis]\n",
    "\n",
    "    disp = ConfusionMatrixDisplay(confusion_matrix=confusion_matrix_normalized, display_labels=('hate','offensive','neither'))\n",
    "    disp.plot(cmap=plt.cm.binary)\n",
    "    plt.show()\n",
    "    return epoch_loss, accuracy, list\n",
    "\n",
    "list = []\n",
    "_,_,list= eval_tesl(model, test_dataloader, list)\n"
   ]
  },
  {
   "cell_type": "code",
   "execution_count": 40,
   "metadata": {},
   "outputs": [
    {
     "name": "stdout",
     "output_type": "stream",
     "text": [
      "394 tensor([25292])\n"
     ]
    }
   ],
   "source": [
    "print(len(list), max(list))"
   ]
  },
  {
   "cell_type": "code",
   "execution_count": 35,
   "metadata": {},
   "outputs": [
    {
     "name": "stdout",
     "output_type": "stream",
     "text": [
      "DatasetDict({\n",
      "    train: Dataset({\n",
      "        features: ['idx', 'count', 'hate_speech', 'offensive_language', 'neither', 'class', 'tweet'],\n",
      "        num_rows: 24783\n",
      "    })\n",
      "})\n"
     ]
    }
   ],
   "source": [
    "data_check_test = 0\n",
    "data_check_test = load_dataset(\n",
    "    \"csv\", data_files=\"data/tweets.csv\"\n",
    "    )\n",
    "print(data_check_test)"
   ]
  },
  {
   "cell_type": "code",
   "execution_count": 42,
   "metadata": {},
   "outputs": [
    {
     "name": "stdout",
     "output_type": "stream",
     "text": [
      "\" momma said no pussy cats inside my doghouse \"\n",
      "\"@NotoriousBM95: @_WhitePonyJr_ Ariza is a snake and a coward\" but at least he isn't a cripple like your hero Roach lmaoo\n",
      "\"@RamBoutIt: &#8220;@Master11_: @20ToLife_ @RamBoutIt hoes Austin&#8221; teach us Austin.\"I teach u how to get curved? That's all I know\n",
      "\"@ashlingwilde: @ItsNotAdam is bored supposed to be cute, you faggot?\" Sometimes\n",
      "\"My nips are freeeeezing...and that's not okay because they're slicing through my bra....\"\n",
      "&#128514;\n",
      "\"These sour apple bitter bitches, I'm not fuckin wit em\"\n",
      "\"You ain't gunna do shit spear chucker\"\n",
      "\"You ol trout mouth ass bitch\" \n",
      "DEEEEAAAADD\n",
      "\"on my way to fuck your bitch in the name of The Lord\" - Mr. Race\n",
      "#ReasonsWeCantBeTogether if u was talkin to my nig or smashed da homies\n",
      "#TrayvonMartin referred to Zimmerman as a \"creepy ass cracker\". Racist thug.\n",
      "#YouWillNotBeTakenSeriouslyIf you're proud to be white trash #KedollarSignHa\n",
      "#metal only, honkies!\n",
      "&#128514;&#128514; fucc nicca yu pose to be pullin up\n",
      "&#8220;@FunnyPicsDepot: \"fucking white people\" http://t.co/uyjGzuX4Cc&#8221; bitch wut?\n",
      "&#8220;@Kik2Clean: Brah Wiz cheated &#128514;&#128557; http://t.co/OZ2PnDNGJ0&#8221; she had hair like a dyke..... Uh.. Duh?\n",
      "&#8220;@MoffettMM: Just got done with my last final and I'm walkin around campus like I own this place&#8221; queer.\n",
      "&#8220;@My_Fish_Died: You dammn Weed potheads are annoying af on Twitter&#8221; weed and pot are the same thing faggot\n",
      "&#8220;@NiHao_Rocky Who is she? RT @DrTruth247: Y'all hype that bread loaf chick up but I'm a chill&#8221; a dyke rapper\n",
      "&#8220;@PlMPCESS: In the fashion world \"urban\" means \"stolen from black people\" its ghetto on us, and urban on them haha http://t.co/S0XWGfLJ9C&#8221; &#128588;\n",
      "&#8220;@RaleighBeougher: dumb beaner&#8221; http://t.co/r0hABEQhSu\n",
      "&#8220;@_BitchBUH: Shoot that nigga and his shorty bitch &#128299;&#128514;&#8221; &#8252;&#65039;&#8252;&#65039;\n",
      "&#8220;@rihanna: We raided Nicki's wig closet for the summer! Bad gals just wanna have fun! http://t.co/0paNscImEw&#8221; this bitch has the a nerve smh\n",
      "' Happppppy Birthdayyyy &#1041191;&#1041196;&#1043215; lol . Niggahs is really 21 in this bitch &#1043358;&#1041219; . http://t.co/YatU7pbsHX\n",
      ".@agie_sweet36 @VedanteBreh12 @TravelNevada Try visiting @thewashoeclub at night for a real spook!\n",
      "1-800-slap-a-hoe\n",
      "8/16/14 MO @GovJayNixon let &#8220;kill some crackers, kill their babies\" New Black Panthers hijack his #Ferguson presser http://t.co/z2Wko9Ripz\n",
      "@AppleciderPapi @OGBEARD @godIevel nah u just a fag\n",
      "@AustinG1135 go to sleep faggot!\n",
      "@BlackManUSA You're killin' me man! &lt;3 Not all conservatives are racists, just like not all NBP hate honkies.\n",
      "@Brizgotti These new nigga hipster hypebeasts love all these faggot ass bright colors and Nike keeps giving them what they want smh\n",
      "@Buckm00se @DaRealAlexInLA I didn't spoil anything &amp; you should have been watched it nigger nig nog\n",
      "@CBSThisMorning @NorahODonnell tx trash you know trouble w ACA is in GOP gov states but like @60 @LaraLogan_News you report lies anyway\n",
      "@CHARLESBARRKLEY you need your ass whipped with a whip Mr house nigger, remember u will always b a nigger to them!\n",
      "@Cam_Coles You don't know what I know. Name somebody colder, you monkey faced immigrant\n",
      "@ChaleCarlo5 fuck outta here and go put some more trash ass ink on your faggot ass self pussy\n",
      "@ChaseManhatttan you become retarded\n",
      "@Chrisworldpeace So I guess that makes us blacks double niggers, huh?\n",
      "@Cotton_Candy9 god wrote em now think again coon\n",
      "@D_Palomino52 you a poop. :( see I'm going all ghetto talk. Wtf!\n",
      "@DangItsTiff you look like fucking shrek bitch\n",
      "@DeezNutsDoe I'd hate feeling like a faggot too punk ass hoe\n",
      "@DolanGang you wouldn't know fag\n",
      "@ErinTaylor14 @BRios82 you both sure do You want to give a free pass to every border jumper in this country you two are what's wrong here\n",
      "@EvanBecker513 @_TriggaPlease_ @MorbidMermaid @zooyorkinit @_ShayisdaBOMB_ @Rainbowblake because she's a nigger\n",
      "@Fardousaa becuz no man should celebrate his bday at a drreams #faggot\n",
      "@Flyers4Cup boy I had no idea that was coming. It's called a smartphone. You're horrible at trash talk\n",
      "@FuckBoiRik hahahaha youza fuck wigger\n",
      "@Garner_412 heyyyyyyyyyyy fag boy am I gonna watch you play?\n",
      "@GrizzboAdams ight nigga haha fucking queer has to clear his schedule\n",
      "@Gutierrez_Alf legit retard\n",
      "@HeilSidious @BreezByYa LOL that Caitlyn.. \"Can't carry 3 retards\"\n",
      "@HuffingtonPost y don't that bitch just shoot herself? so sick of all those whores!\n",
      "@IMNOTMAKINGITUP Hey u just followed me not long ago. Gonna nip that in da bud. like ur bio tho. U know the white devils stole our our\n",
      "@IamShady_ that's not even a real word! Must have hit a blunt and started making up shit with your nigger ass lol\n",
      "@Im_Thirst Shin's a faggot. I'm glad your chipped him.\n",
      "@InTheOvenJews @SlaveCatcher88 @marylene58 we should hang out ovenjew. Have a lot in common. People waste time on nigs. Jews r r problem.\n",
      "@ItsMander @kfc\n",
      "You can always gets da colored folk back in da cage wit da KFC\n",
      "@ItsYOUR_man nothin much cousin touching white trash wigger wannabe bitch boy dick sucking fucking gay bitch\n",
      "@JNunchuckfuck u can just ask him to suck his dick not that hard white trash\n",
      "@JZolly23 also is search of dirty white trash hookers for the weekends\n",
      "@JacobbBacker you don't know shit about me faggot bitch\n",
      "@JaiBrooks1 ugly goldigging cunt u probably have an uncircumcised penis faggot\n",
      "@JaneyPew nigger you are bigger than I am. Do you even #R4aperSec ?\n",
      "@JasonMoriarty13 I remember his nephew Lucas crying and dan saying \"quit being such a pussy and grow a pair\" or something. &#128514;&#128557; dans so funny.\n",
      "@JewelsAndDrugs9 @ladygaga @madonna lmao madonnas music sucks? yeah you're fucking stupid if you think gaga is better. retard\n",
      "@JimBoberson happy birthday faggot\n",
      "@KILLDion @h_christianne politics isn't twitter coon lol\n",
      "@Kenny__Wright @itsfrankybitch @yoPapi_chulo so if your 17 and in high school you dont have your own house you fucking faggot\n",
      "@KodyMark1 hahahh thank you fag boy! #represent\n",
      "@LessonswithKate - I'm jst fckn w/ you.&#128514; I've always wanted to jigg hella good too. we jst not wild enough to be in the circle cuz.&#128557;\n",
      "@MOLLYx__ use coconut oil faggot\n",
      "@MarcSx9 lmaooo dj&#8217;s stranger danger, im just a coon.\n",
      "@MikeTheStatey #Sequester \n",
      "Den the fat colored girl chased me down day street while she swingin da table wit one arm... I wants my pay!!!\n",
      "@MikeyDJaro haha 1. I would go for the S 2. Those fag colors are reserved for @JoeyTaormina\n",
      "@Montea_Rollin @kayysavage I wasn't serious bitch &#128514; bitch them niggas i named ain't fuccing witcho ass &#128514;&#128557; we all just making shit up &#128527;&#128553;\n",
      "@NOAA #EarthDayNOAA \n",
      "Is da colored folk allowed to join? Cuz in my hood folk worried about da watermelon not growin and da chicken too small\n",
      "@NOT_UR_BRO @niccol3_xo lmao nigga shoulda said I would be balless bc dat cold bitch wont stop blowin me#swaagg\n",
      "@Nien_Nunb what did you search? Gay redneck episode 1 play?\n",
      "@Police_TactGear Article is flawed. Took my first CHP with BRPD. Was well done. Even had 2 ghetto gals with a jammy Hi-purnt 9 but well done\n",
      "@RabehChararah1 lmaoo what a fag\n",
      "@RobDa64 thanks!!! Now go clean that trash can ya lil nasty! Lol\n",
      "@SAMMI_boyden idk let's do some redneck shit. ask samuela.\n",
      "@SAMMI_boyden well he's a cunt and he can suck my ass\n",
      "@SactownProidgy @SpeakComedy @yunglucy_ @karon_avila I just noticed you guys called me a jiggaboo\n",
      "@SchulzGrayson @Dswizzle3 oh woulda coulda shoulda ass niggas bitch ass nigga, what u bout oh ban wagging ass nigga catch your phase\n",
      "@ScottDeYager .......now. If you photshopped #Pinhead like #JohnGalt with PISTONS instead of #faggot NEEDLES&gt; I might be impressed&gt; #gay\n",
      "@SharpayyDoll cunt nigger fuck balls tits cocksucker piss dick kike. If you can't take swearing, don't go on the god damn internet.\n",
      "@ShawnIrwin9 good one fag boy.\n",
      "@Sisteena_ And does he know you're calling him a fag?\n",
      "@SoftestMuffin @_tee13 @TorahBlaze in other words you are accustomed to niggers so muchYour Almighty one can be next to u, but yo nigger\n",
      "@SteveWorks4You you havent evolved as a human being. Typical meathead redneck. I pity you. You dont know what freedom is about......\n",
      "@Stonisnipezz this is a joke right? You're on here like ugh I wish I was a jap and tweeting in gook and shit and jerkin to hentai.\n",
      "@TheErniie You're a little bitch.\n",
      "@ToddKincannon @dywanwii @scotja2 He's been drinking too much of that shitty Canadian hoser beer! #eh\n",
      "@ViewFromBoxSeat She's a cunt\n",
      "@WaTch_Scenario Yeah so you better play with me ya nigger\n",
      "@WeBeatBitches thats trash, its ot?\n",
      "@WendyDavisTexas hey Windy! Does your dildo take out the trash for you? Buzzzzz\n",
      "@WhosJuly 1) He's a faggot and I don't like him. 2) I'm on the other side of the state.\n",
      "@WyattNuckels @grizzboadams shut the fuck up fag ill beat the shit outta you\n",
      "@_IAMKEN you'll make the team, them niggas trash. Lol\n",
      "@_James_Kirby_ @mflury30 back off ya queer bag\n",
      "@_XoXoKelsey_ hell naw fuck them bitches serves them right\n",
      "@_justlexis lol whatever. We're fags.\n",
      "@_n1k_nak Status Report: Making a pit stop in Canada to rape bitches\n",
      "@babyspittle @Kimmyincali @MartiniShark @SenatorReid Still blaming Bush? Fucking retard\n",
      "@bonnoxxx nah she said you a fag\n",
      "@brianholmes2700 god doesn't send retards to hell\n",
      "@cakedjake We're laying rock around our lake. You're welcome to join a redneck workout. #muscles &#128170;&#128513;\n",
      "@chemicalkidss this bitch look like a fucking white trash Trailer park queen lookin man bear pig. http://t.co/fqyXLJYIET\n",
      "@desamador you gotta be like me n the twins, just chug it all before everyone\n",
      "@erinscafe We hate the Yankees though, right? I feel like I'm really good at hating them.\n",
      "@freshalina I call those my ghetto nunchucks...the reason I went 2 jail as well :(\n",
      "@gellebeaux_ whatever hoe bitch #1 them \"fags\" beat yall sad asses too\n",
      "@gezus__ die in a car accident then faggot\n",
      "@glaad why do you guys cry and whine whenever someone says faggot? it's ridiculous.\n",
      "@gusandrews HEY! I'M still on LambdaMOO. (and it really is empty, nobody to talk to except that asshole bird...)\n",
      "@ilovetmills faggot\n",
      "@itsjaylaaa eat shit nigga bitch turd bag dick beetle\n",
      "@jakiekoelewijn nigga who's bitch u fucking cracker get your gay ass out my mentions.\n",
      "@jayswaggkillah is a fag\n",
      "@joshgnf @brana_nv @define808 @ironbjk @mrjstn oh shut up faggot get a disease overused on twitter\n",
      "@justinhall3434 \n",
      "God bless you whitey. I be sleepin in tomorrow\n",
      "@kieffer_jason @zach_smith98 @NathannDevlin so why the fuck are still talking shit. You acting like a pussy ass nigga\n",
      "@kieffer_jason how would u know if I don't fuck with you? Exactly you don't wtf I got shut your retarded ass up\n",
      "@mimiswagnotes You are an ignorant cunt.\n",
      "@mrfoolycooly @DM___3 faggot alert\n",
      "@sarahVICwood im going to murder that fucking cunt\n",
      "@sbsylvester @kieffer_jason @hunterbuch66 bitch u ugly then hoe\n",
      "@sho_time_ @MitchVorce chill ur pussy gay af\n",
      "@thetoddshow \n",
      "Y'all ain't gots no colored folk on da show. I tinks dats be racist and shit #TheToddShow\n",
      "@treyspears3 dude your fucking gay you made a twitter just to mock me fucking lowlife\n",
      "A nicca say he ballin ask em where his title n his deeds at not wher his clothes n his keys at\n",
      "Ain't shit like fucking another nigga bitch and askin her \"who pussy is this\" and she say yours lmao no bitch im stealing this pussy lol\n",
      "All da lil bald headed bitches standn outside of kevin gates tryna get in &#128514;&#128514;&#128514;\n",
      "Almost got to see a white boy get beat around today, but he ran like a bitch.\n",
      "And I wanna say something SOOOOOO bad to these two cunts on Twitter eh..\n",
      "At pussy cat lounge killin it with my girlz @blaqdior and @hpmiss\n",
      "Awk... U don't like your own nephew / cousins bc our race.. LMAO broke ugly bitches fuck them we don't need them\n",
      "Bae made me deep fried Oreos &#128523;\n",
      "Bags Bags that's that bag money trash bag black and it's filled up with money\n",
      "Bitch ass nigga, be hating on black women... Uncle Tom bitch punk.\n",
      "Black people like @ChiefKeef disgust me laughing at someone who died dumb monkey ass niggas like you need to be locked up just for stupidity\n",
      "Blocked his fuzzy butt&#128522; .@odifass: @veritaz @TarekFatah @TarikSalym Ignore this low life creature....\"\n",
      "Boy Yung thug is a fag\n",
      "Brady heard yall say he was washed, now he washing the league on you hoe ass niggas.\n",
      "Bruh leave it to the coins coons\n",
      "But rich is a light skin coon. So it's expected.\n",
      "Can't stand that asian dude just now, faggot gives me attitude cause I almost forgot my water, fuck u faggot if I wasn't on stage\n",
      "Charlie is an ol' hatin' fool! #Scandal\n",
      "Chill RT @PhillyTheBoss If I ever become president Imma ban Henny from America..... For a Day, just to see you negroes panic. \"gotcha bitch\"\n",
      "Come on man RT @BasedLaRock: Oreo needs to chill &#128686;RT @TheDonDrew: You know about these @PremiumPete? good or nah? http://t.co/Mw9QXG3vFW\n",
      "Corey is trash\n",
      "Crew neck ass nigguh\n",
      "Curse AVI for Coke because he's a fag and hasn't put it on yet http://t.co/jHQPwop4wk\n",
      "DIVERSITY: Chcgo Blck Pstr Flooded w/ Dth Threats Ovr Endorsement Of GOP Candidate: &#8220;U Sellout Uncle Tom Ass N*gger&#8221; http://t.co/vcBWzkyeDv\n",
      "Dear Utah Polynesians: Again, stop acting black and speaking ghetto. Speak FOB, you ain't no ghetto niggaz.\n",
      "Devin Hester's a bitch\n",
      "Did everyone else's parents use to refer to the Power Puff Girls as \"Powder Puff Girls\", or were mine just exceptionally retarded?\n",
      "Dis broad done tagged dis nicca n a video of his sis giving dome .. #Tragic\n",
      "Dis nigga look retarded\n",
      "Do you have a nickname? What is it? &#8212; Tator, Tator tot, Tightey whitey, whitey Jr, Taylor whitey pants, agent ti... http://t.co/xLBhDJfBF4\n",
      "Dream job for a pedophile dressing up like mickey mouse and hugging kids all day\n",
      "Eagles fuck around &amp; lose it'll be kill the cracker at the Sophi crib smfh\n",
      "Elizabeth is a.stupid hoe.\n",
      "Every character on #Thesimpsons is trash. And they're trash on purpose. If you don't get that, you don't get the joke.\n",
      "FUCKING WALK OFF IN THE BRONX!!! @Yankees\n",
      "Fake tits? &#8220;@VelvetHoopD: A hoe??&#8220;@Steph_Badd: Can u guess what I was ? &#8220;@DJZeeti: Twitpic your halloween costumes&#8221; http://t.co/ECs7nlEkKa&#8221;&#8221;\n",
      "Fat fucking funky nasty ass hoes\n",
      "Fuck her pussy fuck her mouth fuck her ass cause she nasty\n",
      "Fuck that niggah he so weak, he cant tell that you a freak\n",
      "Fuckin' moron, snortin' oxycontin, wearin' cotton, oxymoron, like buff faggots playin' sissy dikes\n",
      "Fuckkkkk!!! My nig a g tho, he gonna come back\n",
      "Got damn the Lakers trash....\n",
      "Hahahhahaa RT @PrinceBama: Your boyfriend trash ma, stop tryna convince yourself otherwise in these tweets\n",
      "He ain't shit girl, &#128175;he a bitch made nigga !\n",
      "Hey @RSherman_25 you're a nigger #racismisaliveandwellbro , learn from other blacks in the league on how to conduct yourself\n",
      "Hey. @BarackObama. Don't be like a stupid white bitch in some horror movie asks #America to hide from #ISIS behind some chainsaws. M,kay?\n",
      "Holder&#8217;s Justice Department Isn&#8217;t Interested in the Facts in #Ferguson http://t.co/7vH4tyPMht These race hustling bitches are DISGRACEFUL.\n",
      "Hungry as ferkin nips\n",
      "I can't fuck a scary hoe.\n",
      "I didnt buy any alcohol this weekend, and only bought 20 fags. Proud that I still have 40 quid tbh\n",
      "I don't feel like all black people are niggers but if you're black and you're being a nigger, imma tell you, idc\n",
      "I hate being profiled. I'm not \"country\", I'm not a \"hick\". I'm Eric Dean Vestal, and I'm doing what makes me happy, not anything else.&#128076;&#128075;\n",
      "I hate that my mom says she trying to move out here... Like bitch the only reason your \"trying\" is because you don't have a place to live..\n",
      "I just fucked an albino. It was weird because it was like a white body impersonating a black voice....... like Iggy Azalea\n",
      "I mean most ppl confuse when to use \"to\" and \"too\", this nicca used the word \"two\" when he should've used \"to\" &#128530;\n",
      "I show do like The Jeffersons. Dat George make me wanna open up a dry cleaning stow and call all da white folk honkey\n",
      "I think dat @Miss_Facetious called me a nigger!\n",
      "What do move away from da dark side mean?\n",
      "I wasn't calling you a faggot, but you are one lol.\n",
      "I'll stop drugs, alcohol, fags, sluts for you. Just give me a chance. It's been a year and I feel the same, that clearly means something.\n",
      "I'm \"walk into my local convenience store &amp; the clerk says 'what up, girl? Keystone is on sale, yo!'\" white trash. Line forms to the RIGHT.\n",
      "I'm gonna be ghetto and color over the stain with a sharpie ctfu\n",
      "I'm starting to not like meek, this nig a lil to arrogant for me\n",
      "I'm such a retard sometimes.\n",
      "If you a hoe ima treat you like one just like if you're a good girl ima treat you like one. I don't discriminate\n",
      "Im soooooo tired of this dick dyke showing up on my fb feed. Real studs dont fucc niggas. Just be bisexual.\n",
      "Innovative ideas about an unresolved issue relating to your ho... More for Libra http://t.co/UOoN09K1Dq\n",
      "Is there a full moon out? #CrazyAssholes out in full force and I'm not talking about muzzies or liberals&#8252;&#65039; And I'm in the mood to oblige.\n",
      "It was nice of you to unfollow me, fag\n",
      "It's levels to my bitch you can't fuck her nigga cause she like red bottom you can't afford her nigga she got Benz you riding honda accord\n",
      "It's this dyke chick cut hair in the barbershop look just like Future\n",
      "Kanye west is a faggot\n",
      "Kip Tokuda, yellow guy working to niggerize the Seattle PD, died. Too bad there's another POS hiding in the wings to replace him.\n",
      "Knock em down wit sum chunky &#128548;&#128299;\n",
      "LMAO Joe was calling whitehouse offering advice. Yeah the President cares what a disgraced FORMER redneck House guy from fl says #morningjoe\n",
      "LRG ass nigguh\n",
      "Late night phone convos with my hoomie that nigga a gook\n",
      "Lmao! You niggas regionally picky about hoes now. Just say anything on Twitter. Makes it's fun tho\n",
      "Lmaooo wait so why everybody talm bout card crackers?! I missed it\n",
      "Lol Nicca dime game got soo much clout niccas goin to da store to buy sum dice\n",
      "Lol you're a cunt liar and I hope you drop dead k :-)\n",
      "Mcdonalds pipe self defence beating: http://t.co/Gk5wbObJTC This is one nigger who's hand I would shake. That's how you deal with sheboons.\n",
      "My advice of the day: If your a tranny.....go fuck your self! http://t.co/W5G2zhZkU6\n",
      "My head too big for snapbacks&#128553;&#128532; &#128557;&#128557;&#128557;, I like beanies better anyway&#128076;\n",
      "My manager @7FLyy new brand | PRE - ORDER NOW w/\n",
      " (404) 394-1570&#160;&#160;--&gt; @sevenflyy \"Red Lust\" &amp; \"Cherry White\" beanies http://t.co/LxjMBCTgJj\n",
      "My managers a stupid cunt yes I said it\n",
      "My neighbors be sick when i wake um up to all this nigger music ctfu\n",
      "Nigga just had them crackers on a chase.\n",
      "Niggas be in they feelings when they find out their hoe fuckin another nigga #StopSavinTheseHoes\n",
      "No these are only whites pies.\n",
      "Well do you have any negro pies?\n",
      "Only word I can understand on #BlackJesus is \"nigger\"... Heavily disappointed in this show. AaronMacgruder stuff blows, IMO.\n",
      "Or the teach might get u got RT @abstraktalante: I really hate a disrespectful ass bitch in class. The professor is talking you STFU bitch.\n",
      "Oregon losing IN OREGON ahhhahahaha faggots\n",
      "Part chink.\n",
      "People who play #fantasygames are white trash\n",
      "People, RT this picture far and wide, if for no other reason than it makes teabaggers with poor spelling really angry http://t.co/gygRzYCIjq\n",
      "Photo: deafreaperventus: wayward-sons-and-fallen-angels: murderous-crows: *gay intensifies* are you saying... http://t.co/qbktWtWFCY\n",
      "Porch monkey 4 Life\n",
      "Practically got arrested tonight, not allowed on UTampa grounds for a year now... fml im retarded\n",
      "Praise thy lord for this season of beanies that is upon us\n",
      "Profesional sports are only enjoyed by white trash.\n",
      "RT \"@TIMAtheRACER: Wow do we have another faggot? &#8220;@ShinobiCelsius: TIMAtheRACER wow do we have another Cam hater? lol&#8221;\"&gt;&gt; dat dude is nice\n",
      "RT @516Jake: Hungover and feeling yyyyyeelllloooowwwwww @outlawdipper @mudjug1 #dbh #yellow http://t.co/hJe7v4aWdw\n",
      "RT @ASAP_Ford: I hate when a nigga ask me \"Where the hoes?\" .... Nigga idfk !\n",
      "RT @AliyahKorea: #Whiteculture thinking weave is \"ratchet\" and \"ghetto\" while \"extensions\" are perfectly fine.\n",
      "RT @BestOfNike: Nike beanies #NikePorn http://t.co/nN4Vo90htj\n",
      "RT @CHlLDHOODRUINER: \"Great.... DaQuan got her pregnant and now I'm gonna have a nigger grandbaby\" http://t.co/9aAyrrKNbt\n",
      "RT @ChingonAbe: &#8220;@staycoolwheels: @mjs79 well he is at Genos. So he is the ultimate faggot&#8221;\n",
      "@elmaestro1 got to show this queer how to eat &#8230;\n",
      "RT @ChippewaSkylark: i love when celeb nudes leak and all the girls with trash bodies try and critique them\n",
      "RT @CouldBeEashia: @vivalamarley me waiting on you to take me to NY with you to get my nips pierced \n",
      "\n",
      "&#128590;&#128589;&#128105;&#128117;\n",
      "RT @CuhCuhCraig: Is that Kawhi Leonard? Smh RT &#8220;@iDntWearCondoms: Wow u really gonna leak ou.. Nvm RT @MsJoseline: Ion need I fuc nig http:&#8230;\n",
      "RT @D_Sidbury_: &#8220;@lookwhogotit: All of Kate Upton's leaked nudes today &amp; more &#128525;\n",
      "\n",
      "&#11015;&#65039;\n",
      "http://t.co/BW7ldA56mI http://t.co/sWztntfdGn&#8221; bitch lo&#8230;\n",
      "RT @DatNigPriest: @1BookieG not all of us my nig! I'm light skin with a dark skin mentality lol. We all black\n",
      "RT @DefendWallSt: ...wow? RT @1SleepingGiant: Whatever! Fuck all those assholes. They're niggers, they all look alike to me.\n",
      "RT @DefendWallSt: Tell me how you really feel. RT @1SleepingGiant: those little #ISIS faggots usually have bags over their heads anyway.\n",
      "RT @DogBountyHunter: @WarMachine170 Hey Boy This half breed Chiricahua Apache is on YOUR ASS #Eatmytazer !!\n",
      "RT @Drizz_LakerKing: Horrible RT @YeIIowbang: Invader Zim was trash\n",
      "RT @EarlyLegend: I don't fuck with these hoes &amp; I don't fuck with niggas that's fuckin these hoes\n",
      "RT @ErikCochrane: @tonydecola &#128514;&#128514; my nig\n",
      "RT @FemsHaveBallz: You can no longer run a business n America unless it's deemed acceptable by 1 political group of retards known as democr&#8230;\n",
      "RT @Fit4LifeMike: @Whitecholo23 @chanelisabeth true i need to sleep to make them Gainz bruh!! So all the hoes stay Mirin ;p \n",
      "Alright, later&#8230;\n",
      "RT @ImaLAGirl: Pillow talking too yo hoe hating on a nigga fuck around loose ya hoe like that &#128175;\n",
      "RT @ItsKayven: If your girlfriend is taller than you, it's her responsibility to take the trash out &amp; fight off anyone that breaks into you&#8230;\n",
      "RT @ItsSonGoku: When niggas ask me \"Where the hoes at?\" http://t.co/eg6gxgGzFC\n",
      "RT @Ivan_splash: \"Did u call me a bitch?\"\n",
      "\"I said you were ACTING like one\"\n",
      "\"So you just called me one nigga\"\n",
      "\"Shut up bitch\"\n",
      "RT @JBilinovich: You may be redneck if you put steak seasoning on popcorn @weidie1211\n",
      "RT @JakeG_BasedGod: \"Never go full retard\"\n",
      "RT @JakeWaller97: Do you ever just see someone's account and think \"wow what a faggot\" but at the same time you can't unfollow bc u can't m&#8230;\n",
      "RT @JessicaChasmar: Media Matters executive behind #StopRush campaign blogged about &#8216;trannies,&#8217; &#8216;homos&#8217; http://t.co/mje5KVl7rf http://t.co/&#8230;\n",
      "RT @JohnnyFootbalI: Yeah start me as your flex player next week. Trick plays, catching passes, flipping the bird, smashing asses, should al&#8230;\n",
      "RT @JstKeepScrollin: Been trash \"@WeAre_XCI: The gay Chris bosh jokes are getting old now\"\"\n",
      "RT @KILLSheredon: you the nigga in high school who got shoved into lockers and thrown into trash cans @TvvitterRoasts\n",
      "RT @Kerb_215: 1,2,3,4 how many niggers are in my store I knowwwww your stealing &#128514;&#128514;&#128514;, that vine still be having me weak\n",
      "RT @Kidd_BravO615: Nigga wanna bitch about a party y'all know my address knock at my door\n",
      "RT @Mari_813: \"Bae\" means \"before anything else\" I always thought it was a ghetto word for \"babe\"\n",
      "RT @MensHumor: One man's trash is another man's girlfriend.\n",
      "RT @MidniteBoss: If you snipe, you're a fucking faggot. I fucking hope all of you snipers get fucking raped and suffer from cancer.\n",
      "RT @MilesM_05: How ghetto girls start their fights &#128514; https://t.co/WyKh16PLek\n",
      "RT @MrzSixTrue: Ill break a Bitch down, like the pussy she is.\n",
      "RT @Mz_Eccentricity: We all need to be aware....that's there is ALOT more going on in this world than ya'll flagrant asses care to know abo&#8230;\n",
      "RT @NerdAtCoolTable: RT @RealSheemBacc: For every bad bitch there is a nigga who treats them like shit &amp; yet they stay..... I wanna ...\n",
      "RT @NewYorkTaughtMe: &#128528;&#128528;&#128528;&#128528;&#128528; &#8220;@MattieSavage_: WHAT THE FUCK RT @JuanNdaCut: \"Killed two birds with one stone\"&#128557;&#128557; http://t.co/ZPiiwrdFaj&#8221;\n",
      "RT @NoHoesNextDoor: If you claim Macklemore is your favorite rapper I'm also assuming you watch the WNBA on your free time faggot\n",
      "RT @ObamaStrawman: Joan Rivers said I was gay and Michelle was a tranny. Perhaps her death was no accident. See Clinton's and Ron Brown/Vin&#8230;\n",
      "RT @OfficiallyIce: \"That's why you're so good at this game. Cause u sit on your unemployed nigger ass playing all day.\"\n",
      "RT @PacDaGoat: You a hoe if you give your number to another nigga while you got a man\n",
      "RT @PhuckedFame: Thick red bones in style or nah? &#127817; http://t.co/Cfhis3L8bT\n",
      "RT @PluggedInPiff: Green azz niggas!!!! &amp; yall new bitches condone dat sucka activity dat why they keep doin it!!!\n",
      "RT @Racheldoesstuff: \"You gotta have luuuuube/All ya really need is luuuube!\"- Dental Dam Yankees\n",
      "RT @Rockprincess818: Obama is Allowing millions of illegal aliens, drug cartels, and terrorists to enter our open borders...Liberal retards&#8230;\n",
      "RT @ScottLinnen: Saw a man in a yellow trench coat &amp; matching fedora with an iWatch. What a Dick.\n",
      "RT @ShitPussiesSay: Lets butt chug Mikes Hard Lemonade\n",
      "RT @SteveStfler: \"Stop talking ghetto, you're white\" http://t.co/WZbDbi0f9k\n",
      "RT @StonerBoii2cold: &#8220;@TreVaughnLG: Moma said no pussy cats inside my dog house&#8221; that's what got bro nem locked inside the dog pound !!\n",
      "RT @TooRacist: Some black guy at my school asked if there were colored printers in the library.\n",
      "\n",
      "\"It's 2014 man you can use any printer you&#8230;\n",
      "RT @TooRacist: What type of eye make-up do redneck women use?\n",
      "\n",
      " NASCARA.\n",
      "RT @TorahBlaze: @1SonofYahweh they should be ashamed of themselves. I'll be single for life before I fuck w a nasty, faggot ass white man.\n",
      "RT @WayneDupreeShow: MT @COACHKtoLA: @waynedupreeshow is paid by white supremacist, they always get a negro to do their dirty work #Fergus&#8230;\n",
      "RT @WolfpackAlan: Oreos: First you twist it, then you- aw crap, it broke.\n",
      "RT @YourFavPosts: When your teacher puts you in a group with a bunch of retards http://t.co/D5DPhKwi2L\n",
      "RT @ZephTheGreat: Not all black girls are ghetto .\n",
      "RT @_RiveraJustin: It's unattractive when girls act ghetto\n",
      "RT @__J_R: Smh nigga is mildly retarded RT @Thotcho: LMFAO RT @JustDoJ: If Griff wasn&#8217;t injuries we&#8217;d legit be 6-1\n",
      "RT @_missvain: Lmfaooooo &gt;RT @sirTurn3r: Lmaoo Thats what u got from this? RT @waddupivy: Dougie be yamming the coon all that beat boxing &#128553;\n",
      "RT @_politeASSHOLE: 4) Only pussy niggas who suck dick cry about someone being in their mentions, tweet the person then cry again about the&#8230;\n",
      "RT @ajade___: everybody tryna fuck the next nigga bitch not knowin that his bitch is the next nigga bitch &#128586;&#128566;\n",
      "RT @amour_tajiana: Only fuck niggas would wanna continue to mess with these messy ass bitches vs. somebody who HAS been down for them all a&#8230;\n",
      "RT @bclaymoore: Dude does his girlfriend's mom, trashes her wedding. Mopes to folk rock. #explainafilmplotbadly\n",
      "RT @clurfogarty: All Babies are born hipsters because they come out of the hospital in beanies.\n",
      "RT @connorbagen: You know she's a dyke when she asks for men's golf clubs\n",
      "RT @cwissi: beanies for life &#9697;&#776;&#8413; http://t.co/iywPwmPGTu\n",
      "RT @dirtyimage: @Tronkitty not just cause of hoes, go to jail cause of fucking up hoes bloody n making them call you head honcho\n",
      "RT @dxpperjay: You assholes know that referring to a girl as \"bitch\" doesn't make your dick any bigger, right?\n",
      "RT @femaIes: a girl tweeted \"you might be ghetto if u bring food from outside into the movies\"\n",
      "\n",
      "no u might be stupid if u pay 4.99 for a ba&#8230;\n",
      "RT @iDntWearCondoms: If u acted like a hoe after we broke up I'm not wrong for thinking u were a hoe all along\n",
      "RT @iceyy505: I HATE hoe ass people.\n",
      "RT @itsclaribelyo: Swag fags are now hibernating because great America and Christmas in the park are both closed. &#128514;\n",
      "RT @jakesiwy: @Ryan_Murphy3 http://t.co/i1rnKjMKeU fag\n",
      "RT @jasminee_gamboa: hoes will be hoes .\n",
      "RT @jenebooks: @WhistGoddess i was about to be like \"r u queer\" but c'mon Jen do u even need to ask\n",
      "RT @jessielee1028: @Hawkdaddy300 @GavinMHawks21 @Ur_Boy_George yeah I don't think that's okay...Fuckin drop it. You shouldn't even joke abo&#8230;\n",
      "RT @jezzzz_: &#8220;@Ginga_Snaps13: @jezzzz_ @ShitPussiesSay Jessica I'm not afraid to slit your throat tomorrow&#8221; @RitenourSchools @BarackObama @&#8230;\n",
      "RT @luke_brooks: There was a fly that was banging into all the windows and I called it retarded but then I thought to myself \"umm I'm talki&#8230;\n",
      "RT @markiiejay: You got niggas &amp; i got bitches\n",
      "RT @maycie32: @Whitecholo23 np big nig nig\n",
      "RT @meaghanyockey: \"@savanaharanda: Is you a girl or a guy is you my mom or is you my dad ?\" Im a butch dyke\n",
      "RT @mediacrooks: I believe the time for uncouth/uncivilised people to be sentenced to death for racial slurs/attacks against NE citizens...\n",
      "RT @mitchmancuso: @BrantPrintup:What straight guys take a picture of themselves naked in a hot tun.What fags @jakesiwy @Ryan_Murphy3 @Randy&#8230;\n",
      "RT @redemptionzayn: I inhale white exhale nigger\n",
      "RT @sheemteam97: Fuck the Islamic State!! We will kill those cunts&#127468;&#127463;\n",
      "RT @steviegarcia11: Here come wiggas soft tweets.. &#128514;\n",
      "RT @taylorcaniff: I wear beanies all winter long! So no bandanas till summer&#128525;\n",
      "RT'in your own shit now pussy what a joke you'd end up just like all the rest no show chicken shit mother fucker\n",
      "Raunchy ass hoe.\n",
      "Shoot that nigga an his shorty bitch .\n",
      "Shutup faggot RT @black_taco_: To fumble @Thotcho: Took them a while&#8220;\n",
      "Shy singer surprises and melts Simons heart: http://t.co/RbCWsvvdJY \n",
      "\n",
      "This was so damn beautiful! I almost cried!!\n",
      "Some Jihadi posted a bio of the #ISIS boss Mr Awad with excellent sociological info. Can't thank him/her enough for the gift.\n",
      "Somebody please choke that fucking retard that keeps yelling \"mashed potatoes\". What a tool! #PGAChampionship\n",
      "Sound like a REAL NIGGA TO ME &#8220;@SankPankSimona: Keith stood under the monkey bats looking up girls skirts during recess time. Fucking creep&#8221;\n",
      "Stay home then bitch fuck u\n",
      "Stuck up serious bitches are possibly the worst type of girls. Ever.\n",
      "The day my ex told me she was sober when she cheated on me is the same day I eliminated colored skinny jeans from my wardrobe\n",
      "The nations know who we are, but we rather be real niggers &amp; bad bitches. http://t.co/Ge6tNhxzAF\n",
      "The republican teabaggers hate this but screw em. http://t.co/6iutHYvhQm\n",
      "The rich kids of beverly hills is trash and not even entertaining trash. And why do they all look mid thirties?\n",
      "They come to you out of the blue. They make others see red and green with envy. They aren't always black or white. You're not yellow luckily\n",
      "They trying to hoe Todd gurley, Johnny manziel signed them helmets and got off but suspend gurley the rest of season\n",
      "This rain got yall women talking out your ass.. A nigga should spend 80% of his income on a bitch &#128514;&#128514; bruh get these hoes the fuck outta here\n",
      "This week's RFN segment is in the can. I discuss Idaho being a faggot marriage state just like Washington.\n",
      "This white bitch tried to set me up for a racial war ... Lol bitch it's impossible I'm smarter then you\n",
      "Those faggots that keep posting gay ass videos of them cuddling with their gf's on Facebook.\n",
      "Told my dad to go buy cookies for the graduation reception...this nigga bought Oreos.\n",
      "Trash.. see how i capitalized the \"T\" in Trash.. RT @misskai__: Wtf is this Oreo song by r Kelly ? &#128514; tf\n",
      "Truth is @MaxOn_MaxOff5 ate yellow snow as a child..\n",
      "Twice divorced teabagger Florida Attorney General says marriage is reserved for 'stable, enduring family units' http://t.co/Wafg8EYYGM\n",
      "WATCH: Excited ISIS Jihadis Getting Their Yezidi Sex Slaves On 'Distribution Day' http://t.co/n9ExnuVhKs #tcot #lnyhbt #pjnet #tgdn #gop\n",
      "Welcome to our land of dispossession! http://t.co/v14jkTLZ Check out the evil, racist whitey sitting on steps etc. \"Reconquista, Woo Hoo!!\n",
      "When it rains it's good \"go to the mall weather\" all the coons be at home\n",
      "Whoever had Mr. Ramlogan for UWI business law tho? Racist mudda cunt\n",
      "Why are #teabaggers so interested in saving people who are Muslim? Does Syria have oil? #morningjoe\n",
      "Wish I coulda said more to @EmmaleeeParkerr tonight. Good seeing you fag. &#128540;\n",
      "Women who are feminist are the ugly bitches who cant find a man for themselves\n",
      "Would've liked some more backup but I can handle myself against a gang of retards.\n",
      "Yee boy my yung nicca told me dat waxx\n",
      "Yo bitch ass needs to boss the fuck up.\n",
      "You a lame ass nigga still cuffin these hoes my bitch got a bitch with er\n",
      "You know what fuck you too bitch your such a little hoe! &gt;.&lt;\n",
      "You state it gook\n",
      "You wanna find hoes on here? Just follow the chicks who reply with heart eyes under sex gifs\n",
      "You're all faggot fuckheads.\n",
      "You're black? Your name looks Hungarian. You marry a Hunky? @JulieSczesny @ChrisLoesch\n",
      "Your pathetic plan failed. Enjoy my phone you fucking monkey. Let me see your ass at Benton park. You wanna talk shit I'll carve your face.\n",
      "Yung nigger move that dope\n",
      "and another one &#8220;@07Cannon: Two hoes? RT \"@xoxo_imaunicorn: y'all know what we are?! &#128514;&#128514;\" http://t.co/XI5Aod1FAo&#8221;\n",
      "cant trust niggas when it come to bitches\n",
      "fucking queer\n",
      "gay ass fags http://t.co/eqn4gvW42V\n",
      "go get left in a hot car and die bitch\n",
      "im weeaboo trash\n",
      "looking like a hillbilly and not matching is what I do best goodnight losers http://t.co/caGHBLKAXQ\n",
      "niggas ain't playin a gram of defense man George need to tell these bitch ass niggas man up\n",
      "old fellas water froze in that funeral home. he got it unthawed and wants me to help get his pump going again, that place spooks me man..boo\n",
      "she pooted &#8220;@Not1FuckisGiven: Either Young Thug gay, or this bitch pooted https://t.co/g0FgRX7dju&#8221;\n",
      "slow replies make me feel like a retard and I just want to put my foot through a wall... hjhdyhdhlgjdftilh\n",
      "smh RT @uglyhxes Tyga shoulda knew Blacc Chyna was a hoe when his son crip walked out her pussy.\n",
      "thank god FOB didnt come back doing some shitty arena tour. #iwaited5yearsforfobandiallgotwasthisshittyarena SYKEEEE\n",
      "ur trash! http://t.co/6KN7PzTgl8\n",
      "wonder if they gon have em for the low on nigger friday....\n",
      "yea so about @N_tel 's new friend.. all my friends kno they're only allowed one cute darkie friend n that's me! lol\n",
      "yeah i got soul i was brought up by colored women.\n",
      "you a pussy ass nigga and I know it nigga.\n",
      "you've gone and broke the wrong heart baby, and drove me redneck crazy\n"
     ]
    },
    {
     "ename": "IndexError",
     "evalue": "list index out of range",
     "output_type": "error",
     "traceback": [
      "\u001b[0;31m---------------------------------------------------------------------------\u001b[0m",
      "\u001b[0;31mIndexError\u001b[0m                                Traceback (most recent call last)",
      "Cell \u001b[0;32mIn[42], line 2\u001b[0m\n\u001b[1;32m      1\u001b[0m \u001b[38;5;28;01mfor\u001b[39;00m idx \u001b[38;5;129;01min\u001b[39;00m data_check_test[\u001b[38;5;124m'\u001b[39m\u001b[38;5;124mtrain\u001b[39m\u001b[38;5;124m'\u001b[39m][\u001b[38;5;124m'\u001b[39m\u001b[38;5;124midx\u001b[39m\u001b[38;5;124m'\u001b[39m]:\n\u001b[0;32m----> 2\u001b[0m     \u001b[38;5;28;01mif\u001b[39;00m \u001b[43mdata_check_test\u001b[49m\u001b[43m[\u001b[49m\u001b[38;5;124;43m'\u001b[39;49m\u001b[38;5;124;43mtrain\u001b[39;49m\u001b[38;5;124;43m'\u001b[39;49m\u001b[43m]\u001b[49m\u001b[43m[\u001b[49m\u001b[38;5;124;43m'\u001b[39;49m\u001b[38;5;124;43midx\u001b[39;49m\u001b[38;5;124;43m'\u001b[39;49m\u001b[43m]\u001b[49m\u001b[43m[\u001b[49m\u001b[43midx\u001b[49m\u001b[43m]\u001b[49m \u001b[38;5;129;01min\u001b[39;00m \u001b[38;5;28mlist\u001b[39m:\n\u001b[1;32m      3\u001b[0m         \u001b[38;5;28mprint\u001b[39m(data_check_test[\u001b[38;5;124m'\u001b[39m\u001b[38;5;124mtrain\u001b[39m\u001b[38;5;124m'\u001b[39m][\u001b[38;5;124m'\u001b[39m\u001b[38;5;124mtweet\u001b[39m\u001b[38;5;124m'\u001b[39m][idx])\n",
      "\u001b[0;31mIndexError\u001b[0m: list index out of range"
     ]
    }
   ],
   "source": [
    "for idx in data_check_test['train']['idx']:\n",
    "    if data_check_test['train']['idx'][idx] in list:\n",
    "        print(data_check_test['train']['tweet'][idx]['class'])"
   ]
  },
  {
   "cell_type": "code",
   "execution_count": null,
   "metadata": {},
   "outputs": [],
   "source": []
  }
 ],
 "metadata": {
  "kernelspec": {
   "display_name": "Python 3",
   "language": "python",
   "name": "python3"
  },
  "language_info": {
   "codemirror_mode": {
    "name": "ipython",
    "version": 3
   },
   "file_extension": ".py",
   "mimetype": "text/x-python",
   "name": "python",
   "nbconvert_exporter": "python",
   "pygments_lexer": "ipython3",
   "version": "3.9.6"
  }
 },
 "nbformat": 4,
 "nbformat_minor": 2
}
