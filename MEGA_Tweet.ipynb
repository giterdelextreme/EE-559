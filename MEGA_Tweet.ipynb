{
 "cells": [
  {
   "cell_type": "code",
   "execution_count": 17,
   "metadata": {},
   "outputs": [
    {
     "name": "stderr",
     "output_type": "stream",
     "text": [
      "huggingface/tokenizers: The current process just got forked, after parallelism has already been used. Disabling parallelism to avoid deadlocks...\n",
      "To disable this warning, you can either:\n",
      "\t- Avoid using `tokenizers` before the fork if possible\n",
      "\t- Explicitly set the environment variable TOKENIZERS_PARALLELISM=(true | false)\n"
     ]
    },
    {
     "data": {
      "text/plain": [
       "'2.3.0'"
      ]
     },
     "execution_count": 17,
     "metadata": {},
     "output_type": "execute_result"
    }
   ],
   "source": [
    "import torch\n",
    "from torch.utils.data import DataLoader\n",
    "import numpy as np\n",
    "import pandas as pd\n",
    "from datasets import load_dataset\n",
    "from transformers import AutoTokenizer, MegaForSequenceClassification\n",
    "import torchinfo\n",
    "from tqdm.auto import tqdm\n",
    "import evaluate\n",
    "import matplotlib.pyplot as plt\n",
    "from transformers import get_scheduler\n",
    "from torch.optim import AdamW\n",
    "torch.__version__"
   ]
  },
  {
   "cell_type": "code",
   "execution_count": 2,
   "metadata": {},
   "outputs": [
    {
     "data": {
      "text/plain": [
       "device(type='cpu')"
      ]
     },
     "execution_count": 2,
     "metadata": {},
     "output_type": "execute_result"
    }
   ],
   "source": [
    "device = torch.device(\"cpu\")\n",
    "device"
   ]
  },
  {
   "cell_type": "code",
   "execution_count": 3,
   "metadata": {},
   "outputs": [
    {
     "name": "stderr",
     "output_type": "stream",
     "text": [
      "Some weights of MegaForSequenceClassification were not initialized from the model checkpoint at mnaylor/mega-base-wikitext and are newly initialized: ['classifier.dense.bias', 'classifier.dense.weight', 'classifier.out_proj.bias', 'classifier.out_proj.weight']\n",
      "You should probably TRAIN this model on a down-stream task to be able to use it for predictions and inference.\n"
     ]
    },
    {
     "data": {
      "text/plain": [
       "MegaForSequenceClassification(\n",
       "  (mega): MegaModel(\n",
       "    (embedding_layer): MegaEmbeddings(\n",
       "      (word_embeddings): Embedding(50265, 128, padding_idx=1)\n",
       "    )\n",
       "    (layers): ModuleList(\n",
       "      (0-3): 4 x MegaBlock(\n",
       "        (mega_layer): MegaMovingAverageGatedAttention(\n",
       "          (activation): SiLU()\n",
       "          (dropout): MegaDropout()\n",
       "          (hidden_dropout): MegaDropout()\n",
       "          (attention_dropout): MegaDropout()\n",
       "          (norm): MegaSequenceNorm(\n",
       "            (norm): MegaScaleNorm()\n",
       "          )\n",
       "          (ema_gate): MegaMultiDimensionDampedEma()\n",
       "          (v_proj): Linear(in_features=128, out_features=256, bias=True)\n",
       "          (mx_proj): Linear(in_features=128, out_features=576, bias=True)\n",
       "          (h_proj): Linear(in_features=256, out_features=128, bias=True)\n",
       "          (rel_pos_bias): MegaRotaryRelativePositionalBias()\n",
       "          (softmax): Softmax(dim=-1)\n",
       "        )\n",
       "        (nffn): MegaNormalizedFeedForwardNetwork(\n",
       "          (activation): SiLU()\n",
       "          (dropout): MegaDropout()\n",
       "          (hidden_dropout): MegaDropout()\n",
       "          (norm): MegaSequenceNorm(\n",
       "            (norm): MegaScaleNorm()\n",
       "          )\n",
       "          (fc1): Linear(in_features=128, out_features=256, bias=True)\n",
       "          (fc2): Linear(in_features=256, out_features=128, bias=True)\n",
       "        )\n",
       "      )\n",
       "    )\n",
       "  )\n",
       "  (classifier): MegaClassificationHead(\n",
       "    (dense): Linear(in_features=128, out_features=128, bias=True)\n",
       "    (dropout): Dropout(p=0.1, inplace=False)\n",
       "    (out_proj): Linear(in_features=128, out_features=3, bias=True)\n",
       "  )\n",
       ")"
      ]
     },
     "execution_count": 3,
     "metadata": {},
     "output_type": "execute_result"
    }
   ],
   "source": [
    "tokenizer = AutoTokenizer.from_pretrained(\"mnaylor/mega-base-wikitext\")\n",
    "model = MegaForSequenceClassification.from_pretrained(\"mnaylor/mega-base-wikitext\")\n",
    "model.classifier.out_proj = torch.nn.Linear(in_features=128, out_features=3, bias=True)\n",
    "model.to(device)"
   ]
  },
  {
   "cell_type": "code",
   "execution_count": 4,
   "metadata": {},
   "outputs": [
    {
     "data": {
      "text/plain": [
       "==========================================================================================\n",
       "Layer (type:depth-idx)                                            Param #\n",
       "==========================================================================================\n",
       "MegaForSequenceClassification                                     --\n",
       "├─MegaModel: 1-1                                                  --\n",
       "│    └─MegaEmbeddings: 2-1                                        --\n",
       "│    │    └─Embedding: 3-1                                        6,433,920\n",
       "│    └─ModuleList: 2-2                                            --\n",
       "│    │    └─MegaBlock: 3-2                                        223,042\n",
       "│    │    └─MegaBlock: 3-3                                        223,042\n",
       "│    │    └─MegaBlock: 3-4                                        223,042\n",
       "│    │    └─MegaBlock: 3-5                                        223,042\n",
       "├─MegaClassificationHead: 1-2                                     --\n",
       "│    └─Linear: 2-3                                                16,512\n",
       "│    └─Dropout: 2-4                                               --\n",
       "│    └─Linear: 2-5                                                387\n",
       "==========================================================================================\n",
       "Total params: 7,342,987\n",
       "Trainable params: 7,342,987\n",
       "Non-trainable params: 0\n",
       "=========================================================================================="
      ]
     },
     "execution_count": 4,
     "metadata": {},
     "output_type": "execute_result"
    }
   ],
   "source": [
    "torchinfo.summary(model)"
   ]
  },
  {
   "cell_type": "code",
   "execution_count": 5,
   "metadata": {},
   "outputs": [
    {
     "data": {
      "text/plain": [
       "RobertaTokenizerFast(name_or_path='mnaylor/mega-base-wikitext', vocab_size=50265, model_max_length=512, is_fast=True, padding_side='right', truncation_side='right', special_tokens={'bos_token': '<s>', 'eos_token': '</s>', 'unk_token': '<unk>', 'sep_token': '</s>', 'pad_token': '<pad>', 'cls_token': '<s>', 'mask_token': '<mask>'}, clean_up_tokenization_spaces=True),  added_tokens_decoder={\n",
       "\t0: AddedToken(\"<s>\", rstrip=False, lstrip=False, single_word=False, normalized=False, special=True),\n",
       "\t1: AddedToken(\"<pad>\", rstrip=False, lstrip=False, single_word=False, normalized=False, special=True),\n",
       "\t2: AddedToken(\"</s>\", rstrip=False, lstrip=False, single_word=False, normalized=False, special=True),\n",
       "\t3: AddedToken(\"<unk>\", rstrip=False, lstrip=False, single_word=False, normalized=False, special=True),\n",
       "\t50264: AddedToken(\"<mask>\", rstrip=False, lstrip=True, single_word=False, normalized=False, special=True),\n",
       "}"
      ]
     },
     "execution_count": 5,
     "metadata": {},
     "output_type": "execute_result"
    }
   ],
   "source": [
    "tokenizer"
   ]
  },
  {
   "cell_type": "code",
   "execution_count": 6,
   "metadata": {},
   "outputs": [
    {
     "name": "stdout",
     "output_type": "stream",
     "text": [
      "{'idx': 0, 'count': 3, 'hate_speech': 0, 'offensive_language': 0, 'neither': 3, 'class': 2, 'tweet': \"!!! RT @mayasolovely: As a woman you shouldn't complain about cleaning up your house. &amp; as a man you should always take the trash out...\"}\n",
      "{'idx': 0, 'count': 3, 'hate_speech': 0, 'offensive_language': 0, 'neither': 1, 'class': 2, 'tweet': \"!!! RT @mayasolovely: As a woman you shouldn't complain about cleaning up your house. &amp; as a man you should always take the trash out...\"}\n"
     ]
    }
   ],
   "source": [
    "data_check_test = load_dataset(\n",
    "    \"csv\", data_files=\"data/tweets.csv\"\n",
    "    )\n",
    "print(data_check_test['train'][0])\n",
    "\n",
    "def preprocess_function(examples):\n",
    "    # Add your binary labels based on the 'class' column\n",
    "    examples['hate_speech'] = 1 if examples['class'] == 0 else 0\n",
    "    examples['offensive_language'] = 1 if examples['class'] == 1 else 0\n",
    "    examples['neither'] = 1 if examples['class'] == 2 else 0\n",
    "    return examples\n",
    "\n",
    "data_check_test = data_check_test.map(preprocess_function)\n",
    "print(data_check_test['train'][0])\n",
    "# Dataset only have training data, hence split it into train/test\n",
    "data_check_test = data_check_test['train'].train_test_split(test_size=0.25)"
   ]
  },
  {
   "cell_type": "code",
   "execution_count": 7,
   "metadata": {},
   "outputs": [],
   "source": [
    "def tokenize_func(examples):\n",
    "    #  padding: 'max_length': pad to a length specified by the max_length argument or the\n",
    "    #  maximum length accepted by the model if no max_length is provided (max_length=None).\n",
    "    #  Padding will still be applied if you only provide a single sequence. [from documentation]\n",
    "\n",
    "\n",
    "    #  truncation: True or 'longest_first': truncate to a maximum length specified\n",
    "    #  by the max_length argument or the maximum length accepted by the model if\n",
    "    #  no max_length is provided (max_length=None). This will truncate token by\n",
    "    #  token, removing a token from the longest sequence in the pair until the\n",
    "    #  proper length is reached. [from documentation]\n",
    "    return tokenizer(\n",
    "        examples[\"tweet\"], padding=\"max_length\", truncation=True\n",
    "        )"
   ]
  },
  {
   "cell_type": "code",
   "execution_count": 8,
   "metadata": {},
   "outputs": [
    {
     "data": {
      "application/vnd.jupyter.widget-view+json": {
       "model_id": "00ea3f73d9954be0b889926f281ad6d0",
       "version_major": 2,
       "version_minor": 0
      },
      "text/plain": [
       "Map:   0%|          | 0/18587 [00:00<?, ? examples/s]"
      ]
     },
     "metadata": {},
     "output_type": "display_data"
    },
    {
     "data": {
      "application/vnd.jupyter.widget-view+json": {
       "model_id": "34563291403f4d1fbc04cc220741a441",
       "version_major": 2,
       "version_minor": 0
      },
      "text/plain": [
       "Map:   0%|          | 0/6196 [00:00<?, ? examples/s]"
      ]
     },
     "metadata": {},
     "output_type": "display_data"
    }
   ],
   "source": [
    "tokenized_data = data_check_test.map(tokenize_func, batched=True)\n"
   ]
  },
  {
   "cell_type": "code",
   "execution_count": 9,
   "metadata": {},
   "outputs": [
    {
     "name": "stdout",
     "output_type": "stream",
     "text": [
      "DatasetDict({\n",
      "    train: Dataset({\n",
      "        features: ['idx', 'count', 'hate_speech', 'offensive_language', 'neither', 'class', 'tweet', 'input_ids', 'attention_mask'],\n",
      "        num_rows: 18587\n",
      "    })\n",
      "    test: Dataset({\n",
      "        features: ['idx', 'count', 'hate_speech', 'offensive_language', 'neither', 'class', 'tweet', 'input_ids', 'attention_mask'],\n",
      "        num_rows: 6196\n",
      "    })\n",
      "})\n",
      "{'class': 0, 'input_ids': [0, 347, 22389, 66, 30, 10, 5886, 1275, 20020, 15, 5, 94, 183, 854, 3384, 673, 787, 3609, 11716, 2133, 16033, 1891, 787, 5096, 3494, 24152, 1558, 787, 5576, 7485, 29, 1215, 26153, 359, 10431, 1092, 4531, 1570, 131, 947, 10431, 1092, 4531, 1570, 131, 2, 1, 1, 1, 1, 1, 1, 1, 1, 1, 1, 1, 1, 1, 1, 1, 1, 1, 1, 1, 1, 1, 1, 1, 1, 1, 1, 1, 1, 1, 1, 1, 1, 1, 1, 1, 1, 1, 1, 1, 1, 1, 1, 1, 1, 1, 1, 1, 1, 1, 1, 1, 1, 1, 1, 1, 1, 1, 1, 1, 1, 1, 1, 1, 1, 1, 1, 1, 1, 1, 1, 1, 1, 1, 1, 1, 1, 1, 1, 1, 1, 1, 1, 1, 1, 1, 1, 1, 1, 1, 1, 1, 1, 1, 1, 1, 1, 1, 1, 1, 1, 1, 1, 1, 1, 1, 1, 1, 1, 1, 1, 1, 1, 1, 1, 1, 1, 1, 1, 1, 1, 1, 1, 1, 1, 1, 1, 1, 1, 1, 1, 1, 1, 1, 1, 1, 1, 1, 1, 1, 1, 1, 1, 1, 1, 1, 1, 1, 1, 1, 1, 1, 1, 1, 1, 1, 1, 1, 1, 1, 1, 1, 1, 1, 1, 1, 1, 1, 1, 1, 1, 1, 1, 1, 1, 1, 1, 1, 1, 1, 1, 1, 1, 1, 1, 1, 1, 1, 1, 1, 1, 1, 1, 1, 1, 1, 1, 1, 1, 1, 1, 1, 1, 1, 1, 1, 1, 1, 1, 1, 1, 1, 1, 1, 1, 1, 1, 1, 1, 1, 1, 1, 1, 1, 1, 1, 1, 1, 1, 1, 1, 1, 1, 1, 1, 1, 1, 1, 1, 1, 1, 1, 1, 1, 1, 1, 1, 1, 1, 1, 1, 1, 1, 1, 1, 1, 1, 1, 1, 1, 1, 1, 1, 1, 1, 1, 1, 1, 1, 1, 1, 1, 1, 1, 1, 1, 1, 1, 1, 1, 1, 1, 1, 1, 1, 1, 1, 1, 1, 1, 1, 1, 1, 1, 1, 1, 1, 1, 1, 1, 1, 1, 1, 1, 1, 1, 1, 1, 1, 1, 1, 1, 1, 1, 1, 1, 1, 1, 1, 1, 1, 1, 1, 1, 1, 1, 1, 1, 1, 1, 1, 1, 1, 1, 1, 1, 1, 1, 1, 1, 1, 1, 1, 1, 1, 1, 1, 1, 1, 1, 1, 1, 1, 1, 1, 1, 1, 1, 1, 1, 1, 1, 1, 1, 1, 1, 1, 1, 1, 1, 1, 1, 1, 1, 1, 1, 1, 1, 1, 1, 1, 1, 1, 1, 1, 1, 1, 1, 1, 1, 1, 1, 1, 1, 1, 1, 1, 1, 1, 1, 1, 1, 1, 1, 1, 1, 1, 1, 1, 1, 1, 1, 1, 1, 1, 1, 1, 1, 1, 1, 1, 1, 1, 1, 1, 1, 1, 1, 1, 1, 1, 1, 1, 1, 1, 1, 1, 1, 1, 1, 1, 1, 1, 1, 1, 1, 1, 1, 1, 1, 1, 1, 1, 1, 1, 1, 1, 1, 1, 1, 1, 1, 1, 1, 1, 1, 1], 'attention_mask': [1, 1, 1, 1, 1, 1, 1, 1, 1, 1, 1, 1, 1, 1, 1, 1, 1, 1, 1, 1, 1, 1, 1, 1, 1, 1, 1, 1, 1, 1, 1, 1, 1, 1, 1, 1, 1, 1, 1, 1, 1, 1, 1, 1, 1, 1, 0, 0, 0, 0, 0, 0, 0, 0, 0, 0, 0, 0, 0, 0, 0, 0, 0, 0, 0, 0, 0, 0, 0, 0, 0, 0, 0, 0, 0, 0, 0, 0, 0, 0, 0, 0, 0, 0, 0, 0, 0, 0, 0, 0, 0, 0, 0, 0, 0, 0, 0, 0, 0, 0, 0, 0, 0, 0, 0, 0, 0, 0, 0, 0, 0, 0, 0, 0, 0, 0, 0, 0, 0, 0, 0, 0, 0, 0, 0, 0, 0, 0, 0, 0, 0, 0, 0, 0, 0, 0, 0, 0, 0, 0, 0, 0, 0, 0, 0, 0, 0, 0, 0, 0, 0, 0, 0, 0, 0, 0, 0, 0, 0, 0, 0, 0, 0, 0, 0, 0, 0, 0, 0, 0, 0, 0, 0, 0, 0, 0, 0, 0, 0, 0, 0, 0, 0, 0, 0, 0, 0, 0, 0, 0, 0, 0, 0, 0, 0, 0, 0, 0, 0, 0, 0, 0, 0, 0, 0, 0, 0, 0, 0, 0, 0, 0, 0, 0, 0, 0, 0, 0, 0, 0, 0, 0, 0, 0, 0, 0, 0, 0, 0, 0, 0, 0, 0, 0, 0, 0, 0, 0, 0, 0, 0, 0, 0, 0, 0, 0, 0, 0, 0, 0, 0, 0, 0, 0, 0, 0, 0, 0, 0, 0, 0, 0, 0, 0, 0, 0, 0, 0, 0, 0, 0, 0, 0, 0, 0, 0, 0, 0, 0, 0, 0, 0, 0, 0, 0, 0, 0, 0, 0, 0, 0, 0, 0, 0, 0, 0, 0, 0, 0, 0, 0, 0, 0, 0, 0, 0, 0, 0, 0, 0, 0, 0, 0, 0, 0, 0, 0, 0, 0, 0, 0, 0, 0, 0, 0, 0, 0, 0, 0, 0, 0, 0, 0, 0, 0, 0, 0, 0, 0, 0, 0, 0, 0, 0, 0, 0, 0, 0, 0, 0, 0, 0, 0, 0, 0, 0, 0, 0, 0, 0, 0, 0, 0, 0, 0, 0, 0, 0, 0, 0, 0, 0, 0, 0, 0, 0, 0, 0, 0, 0, 0, 0, 0, 0, 0, 0, 0, 0, 0, 0, 0, 0, 0, 0, 0, 0, 0, 0, 0, 0, 0, 0, 0, 0, 0, 0, 0, 0, 0, 0, 0, 0, 0, 0, 0, 0, 0, 0, 0, 0, 0, 0, 0, 0, 0, 0, 0, 0, 0, 0, 0, 0, 0, 0, 0, 0, 0, 0, 0, 0, 0, 0, 0, 0, 0, 0, 0, 0, 0, 0, 0, 0, 0, 0, 0, 0, 0, 0, 0, 0, 0, 0, 0, 0, 0, 0, 0, 0, 0, 0, 0, 0, 0, 0, 0, 0, 0, 0, 0, 0, 0, 0, 0, 0, 0, 0, 0, 0, 0, 0, 0, 0, 0, 0, 0, 0, 0, 0, 0, 0, 0, 0, 0, 0, 0, 0, 0, 0, 0, 0, 0, 0]}\n"
     ]
    }
   ],
   "source": [
    "print(tokenized_data)\n",
    "tokenized_data = tokenized_data.remove_columns([\n",
    "    \"idx\", \"count\", \"tweet\", \"hate_speech\", \"offensive_language\", \"neither\"])\n",
    "print(tokenized_data['train'][0])\n",
    "tokenized_data.set_format(\"torch\")"
   ]
  },
  {
   "cell_type": "code",
   "execution_count": 10,
   "metadata": {},
   "outputs": [
    {
     "name": "stdout",
     "output_type": "stream",
     "text": [
      "dict_keys(['class', 'input_ids', 'attention_mask'])\n"
     ]
    }
   ],
   "source": [
    "train_dataloader = DataLoader(tokenized_data['train'], batch_size=8)\n",
    "test_dataloader = DataLoader(tokenized_data['test'], batch_size=8)\n",
    "\n",
    "dataiter = iter(test_dataloader)\n",
    "batch_data= next(dataiter)\n",
    "\n",
    "print(batch_data.keys())"
   ]
  },
  {
   "cell_type": "markdown",
   "metadata": {},
   "source": [
    "## FINE TUNE"
   ]
  },
  {
   "cell_type": "code",
   "execution_count": 11,
   "metadata": {},
   "outputs": [],
   "source": [
    "def custom_loss(input, target, lam):\n",
    "    with torch.no_grad():\n",
    "            _, preds = torch.max(input, 1)\n",
    "    print(preds)\n",
    "    loss = 0\n",
    "    for i, pred in enumerate(preds):\n",
    "        if pred == 2 and (target[i] == 0 or target[i] == 1):\n",
    "            loss += lam * torch.nn.CrossEntropyLoss(input[i], target[i])\n",
    "        elif pred == 1 and target[i] == 2:\n",
    "            loss += lam/2 * torch.nn.CrossEntropyLoss(input[i], target[i])\n",
    "        else:\n",
    "            loss += torch.nn.CrossEntropyLoss(input[i], target[i])\n",
    "    return loss"
   ]
  },
  {
   "cell_type": "code",
   "execution_count": 12,
   "metadata": {},
   "outputs": [],
   "source": [
    "def custom_loss(input, target, lam):\n",
    "    with torch.no_grad():\n",
    "        _, preds = torch.max(input, 1)\n",
    "    \n",
    "        # Mask for the conditions\n",
    "        mask_pred2 = (preds == 2) & ((target == 0) | (target == 1)) # most critic, we predict nothing and there is hate/offensive speech\n",
    "        mask_pred1 = (preds == 1) & (target == 2) # we predict offensiv but there is hate\n",
    "        mask_else = ~(mask_pred2 | mask_pred1) # other cases\n",
    "        \n",
    "        is_empty_pred2 = torch.all(~mask_pred2)\n",
    "        is_empty_pred1 = torch.all(~mask_pred1)\n",
    "        is_empty_else = torch.all(~mask_else)\n",
    "\n",
    "    loss = torch.tensor(0.0)\n",
    "\n",
    "    if not is_empty_pred2:\n",
    "        loss_pred2 = lam * torch.sum(torch.nn.CrossEntropyLoss()(input[mask_pred2], target[mask_pred2]))\n",
    "        loss += loss_pred2\n",
    "\n",
    "    if not is_empty_pred1:\n",
    "        loss_pred1 = lam/2 * torch.sum(torch.nn.CrossEntropyLoss()(input[mask_pred1], target[mask_pred1]))\n",
    "        loss += loss_pred1\n",
    "\n",
    "    if not is_empty_else:\n",
    "        loss_else = torch.sum(torch.nn.CrossEntropyLoss()(input[mask_else], target[mask_else]))\n",
    "        loss += loss_else\n",
    "\n",
    "    return loss"
   ]
  },
  {
   "cell_type": "code",
   "execution_count": 15,
   "metadata": {},
   "outputs": [
    {
     "data": {
      "application/vnd.jupyter.widget-view+json": {
       "model_id": "69b73225023b42268764e4d9178be9ff",
       "version_major": 2,
       "version_minor": 0
      },
      "text/plain": [
       "  0%|          | 0/2324 [00:00<?, ?it/s]"
      ]
     },
     "metadata": {},
     "output_type": "display_data"
    },
    {
     "data": {
      "application/vnd.jupyter.widget-view+json": {
       "model_id": "1f5979659765429c8a1e3d0ce2f78e12",
       "version_major": 2,
       "version_minor": 0
      },
      "text/plain": [
       "  0%|          | 0/775 [00:00<?, ?it/s]"
      ]
     },
     "metadata": {},
     "output_type": "display_data"
    },
    {
     "name": "stdout",
     "output_type": "stream",
     "text": [
      "Epoch 1 accuracy: train=0.188, test=0.188\n"
     ]
    },
    {
     "data": {
      "application/vnd.jupyter.widget-view+json": {
       "model_id": "316a7a74b6d943079b5d848959462100",
       "version_major": 2,
       "version_minor": 0
      },
      "text/plain": [
       "  0%|          | 0/2324 [00:00<?, ?it/s]"
      ]
     },
     "metadata": {},
     "output_type": "display_data"
    },
    {
     "data": {
      "application/vnd.jupyter.widget-view+json": {
       "model_id": "387546e601784d6289ab848e33b62934",
       "version_major": 2,
       "version_minor": 0
      },
      "text/plain": [
       "  0%|          | 0/775 [00:00<?, ?it/s]"
      ]
     },
     "metadata": {},
     "output_type": "display_data"
    },
    {
     "name": "stdout",
     "output_type": "stream",
     "text": [
      "Epoch 2 accuracy: train=0.769, test=0.779\n"
     ]
    }
   ],
   "source": [
    "\n",
    "\n",
    "def train_epoch(model, train_dataloader, optimizer, lr_scheduler, criterion, lam):\n",
    "    progress_bar = tqdm(range(len(train_dataloader)))\n",
    "    metric = evaluate.load(\"accuracy\")\n",
    "    model.train()\n",
    "\n",
    "    epoch_loss = 0\n",
    "    for batch in train_dataloader:\n",
    "        input = batch[\"input_ids\"]\n",
    "        mask = batch[\"attention_mask\"]\n",
    "        y = batch[\"class\"]\n",
    "\n",
    "        outputs = model(input, attention_mask=mask)\n",
    "\n",
    "        with torch.no_grad():\n",
    "            _, preds = torch.max(outputs.logits, 1)\n",
    "\n",
    "        #loss = criterion(outputs.logits, y, lam)\n",
    "        criterion = torch.nn.CrossEntropyLoss()\n",
    "        loss = criterion(outputs.logits, y)\n",
    "        \n",
    "        loss.backward()\n",
    "        optimizer.step()\n",
    "        optimizer.zero_grad()\n",
    "        \n",
    "        \n",
    "        metric.add_batch(predictions=preds, references=y)\n",
    "\n",
    "        epoch_loss += loss.item()\n",
    "        progress_bar.update(1)\n",
    "    lr_scheduler.step()\n",
    "    epoch_loss /= len(train_dataloader)\n",
    "    accuracy = metric.compute()['accuracy']\n",
    "\n",
    "    return epoch_loss, accuracy\n",
    "\n",
    "def eval(model, test_dataloader, criterion, lam):\n",
    "    progress_bar = tqdm(range(len(test_dataloader)))\n",
    "    metric = evaluate.load(\"accuracy\")\n",
    "    model.eval()\n",
    "\n",
    "    epoch_loss = 0\n",
    "    for batch in test_dataloader:\n",
    "        input = batch[\"input_ids\"]\n",
    "        mask = batch[\"attention_mask\"]\n",
    "        y = batch[\"class\"]\n",
    "        \n",
    "        with torch.no_grad():\n",
    "            outputs = model(input, attention_mask=mask)\n",
    "\n",
    "        logits = outputs.logits\n",
    "        #loss = criterion(outputs.logits, y, lam)\n",
    "        criterion = torch.nn.CrossEntropyLoss()\n",
    "        loss = criterion(outputs.logits, y)\n",
    "\n",
    "        predictions = torch.argmax(logits, dim=-1)\n",
    "\n",
    "        metric.add_batch(predictions=predictions, references=y)\n",
    "\n",
    "        epoch_loss += loss.item()\n",
    "        progress_bar.update(1)\n",
    "\n",
    "    epoch_loss /= len(test_dataloader)\n",
    "    accuracy = metric.compute()['accuracy']\n",
    "    \n",
    "    return epoch_loss, accuracy\n",
    "\n",
    "def train(model,\n",
    "          train_dataloader,\n",
    "          test_dataloader,\n",
    "          optimizer,\n",
    "          lr_scheduler,\n",
    "          criterion,\n",
    "          lam,\n",
    "          num_epochs=3,\n",
    "          patience=3):\n",
    "\n",
    "    # count epochs where the model didn't improve\n",
    "    counter = 0\n",
    "    best_val_acc = 0\n",
    "    best_epoch = 0\n",
    "    best_model = None\n",
    "\n",
    "\n",
    "    train_accuracies = []\n",
    "    val_accuracies = []\n",
    "    train_losses = []\n",
    "    val_losses = []\n",
    "    for epoch in range(num_epochs):\n",
    "        if epoch < 3:\n",
    "            model.mega.requires_grad_(False)\n",
    "        else:\n",
    "            model.mega.requires_grad_(True)\n",
    "        train_loss, train_acc = train_epoch(\n",
    "            model, train_dataloader, optimizer, lr_scheduler, criterion, lam)\n",
    "        val_loss, val_acc = eval(model, test_dataloader, criterion, lam)\n",
    "\n",
    "        print(f\"Epoch {epoch+1} accuracy: train={train_acc:.3f}, test={val_acc:.3f}\")\n",
    "\n",
    "        train_accuracies.append(train_acc)\n",
    "        val_accuracies.append(val_acc)\n",
    "\n",
    "        train_losses.append(train_loss)\n",
    "        val_losses.append(val_loss)\n",
    "\n",
    "        # early stopping\n",
    "        # TODO: check if val_acc <= best_val_acc + some minimum increase\n",
    "        if val_acc <= best_val_acc + 1e-4:\n",
    "            counter += 1\n",
    "            if counter >= patience:\n",
    "                break\n",
    "        else:\n",
    "            best_val_acc = val_acc\n",
    "            counter = 0\n",
    "            best_epoch = epoch\n",
    "            best_model = model.state_dict()\n",
    "\n",
    "    return train_accuracies, val_accuracies, train_losses, val_losses, best_epoch, best_model\n",
    "\n",
    "\n",
    "\n",
    "\n",
    "num_epochs = 2\n",
    "optimizer = AdamW(model.parameters(), lr=5e-5)\n",
    "# feel free to experiment with different num_warmup_steps\n",
    "lr_scheduler = get_scheduler(\n",
    "    name=\"linear\", optimizer=optimizer, num_warmup_steps=1, num_training_steps=num_epochs*len(train_dataloader)\n",
    ")\n",
    "criterion = torch.nn.CrossEntropyLoss()\n",
    "lam = 5\n",
    "train_acc, val_acc, train_losses, val_losses, best_epoch, best_model = train(model, train_dataloader, test_dataloader, optimizer, lr_scheduler, criterion, lam, num_epochs=num_epochs, patience=3)"
   ]
  },
  {
   "cell_type": "code",
   "execution_count": 12,
   "metadata": {},
   "outputs": [
    {
     "data": {
      "image/png": "[encoded data removed]",
      "text/plain": [
       "<Figure size 1000x400 with 2 Axes>"
      ]
     },
     "metadata": {},
     "output_type": "display_data"
    }
   ],
   "source": [
    "fig, ax = plt.subplots(1,2, figsize=(10,4))\n",
    "epoch_axis = range(1, len(train_losses)+1)\n",
    "ax[0].plot(epoch_axis, train_losses, label='train')\n",
    "ax[0].plot(epoch_axis, val_losses, label='val')\n",
    "ax[0].axvline(best_epoch+1, label='best', linestyle='--')\n",
    "ax[0].set_xlabel(\"Epoch\")\n",
    "ax[0].set_ylabel(\"Loss\")\n",
    "ax[0].set_xticks(epoch_axis)\n",
    "ax[0].legend()\n",
    "\n",
    "ax[1].plot(epoch_axis, train_acc, label='train')\n",
    "ax[1].plot(epoch_axis, val_acc, label='val')\n",
    "ax[1].axvline(best_epoch+1, label='best', linestyle='--')\n",
    "ax[1].set_xlabel(\"Epoch\")\n",
    "ax[1].set_ylabel(\"Accuracy\")\n",
    "ax[1].set_xticks(epoch_axis)\n",
    "ax[1].legend()\n",
    "plt.show()"
   ]
  },
  {
   "cell_type": "code",
   "execution_count": 10,
   "metadata": {},
   "outputs": [
    {
     "ename": "NameError",
     "evalue": "name 'train_dataloader' is not defined",
     "output_type": "error",
     "traceback": [
      "\u001b[0;31m---------------------------------------------------------------------------\u001b[0m",
      "\u001b[0;31mNameError\u001b[0m                                 Traceback (most recent call last)",
      "Cell \u001b[0;32mIn[10], line 15\u001b[0m\n\u001b[1;32m     13\u001b[0m N_EPOCHS \u001b[38;5;241m=\u001b[39m \u001b[38;5;241m30\u001b[39m\n\u001b[1;32m     14\u001b[0m optimizer \u001b[38;5;241m=\u001b[39m AdamW(model\u001b[38;5;241m.\u001b[39mparameters(), lr\u001b[38;5;241m=\u001b[39m\u001b[38;5;241m5e-5\u001b[39m)\n\u001b[0;32m---> 15\u001b[0m lr_scheduler \u001b[38;5;241m=\u001b[39m {\u001b[38;5;124m\"\u001b[39m\u001b[38;5;124mlinear\u001b[39m\u001b[38;5;124m\"\u001b[39m: get_scheduler(name\u001b[38;5;241m=\u001b[39m\u001b[38;5;124m\"\u001b[39m\u001b[38;5;124mlinear\u001b[39m\u001b[38;5;124m\"\u001b[39m, optimizer\u001b[38;5;241m=\u001b[39moptimizer, num_warmup_steps\u001b[38;5;241m=\u001b[39m\u001b[38;5;241m1\u001b[39m, num_training_steps\u001b[38;5;241m=\u001b[39mN_EPOCHS\u001b[38;5;241m*\u001b[39m\u001b[38;5;28mlen\u001b[39m(\u001b[43mtrain_dataloader\u001b[49m)),\n\u001b[1;32m     16\u001b[0m                 \u001b[38;5;124m\"\u001b[39m\u001b[38;5;124mexponantial\u001b[39m\u001b[38;5;124m\"\u001b[39m: get_scheduler(name\u001b[38;5;241m=\u001b[39m\u001b[38;5;124m\"\u001b[39m\u001b[38;5;124mexponential\u001b[39m\u001b[38;5;124m\"\u001b[39m, optimizer\u001b[38;5;241m=\u001b[39moptimizer, num_warmup_steps\u001b[38;5;241m=\u001b[39m\u001b[38;5;241m1\u001b[39m, num_training_steps\u001b[38;5;241m=\u001b[39mN_EPOCHS\u001b[38;5;241m*\u001b[39m\u001b[38;5;28mlen\u001b[39m(train_dataloader)),\n\u001b[1;32m     17\u001b[0m                 }\n\u001b[1;32m     19\u001b[0m N_SEEDS \u001b[38;5;241m=\u001b[39m \u001b[38;5;241m5\u001b[39m\n\u001b[1;32m     20\u001b[0m \u001b[38;5;28;01mfor\u001b[39;00m numb, scheduler \u001b[38;5;129;01min\u001b[39;00m \u001b[38;5;28menumerate\u001b[39m(lr_scheduler):\n",
      "\u001b[0;31mNameError\u001b[0m: name 'train_dataloader' is not defined"
     ]
    }
   ],
   "source": [
    "\n",
    "best_train_accs = []\n",
    "best_train_losses = []\n",
    "best_val_accs = []\n",
    "best_val_losses = []\n",
    "\n",
    "best_epochs = []\n",
    "\n",
    "all_train_accs = []\n",
    "all_train_losses = []\n",
    "all_val_accs = []\n",
    "all_val_losses = []\n",
    "\n",
    "N_EPOCHS = 30\n",
    "optimizer = AdamW(model.parameters(), lr=5e-5)\n",
    "lr_scheduler = {\"linear\": get_scheduler(name=\"linear\", optimizer=optimizer, num_warmup_steps=1, num_training_steps=N_EPOCHS*len(train_dataloader)),\n",
    "                \"exponantial\": get_scheduler(name=\"exponential\", optimizer=optimizer, num_warmup_steps=1, num_training_steps=N_EPOCHS*len(train_dataloader)),\n",
    "                }\n",
    "\n",
    "N_SEEDS = 5\n",
    "for numb, scheduler in enumerate(lr_scheduler):\n",
    "    for seed in tqdm(range(N_SEEDS)):\n",
    "        model = MegaForSequenceClassification.from_pretrained(\"mnaylor/mega-base-wikitext\")\n",
    "        model.classifier.out_proj = torch.nn.Linear(in_features=128, out_features=3, bias=True)\n",
    "        model.to(device)\n",
    "        data_check_test = load_dataset(\n",
    "        \"csv\", data_files=\"data/tweets.csv\"\n",
    "        )\n",
    "        data_check_test = data_check_test['train'].train_test_split(test_size=0.25)\n",
    "        tokenized_data = tokenized_data.remove_columns([\n",
    "        \"idx\", \"count\", \"tweet\", \"hate_speech\", \"offensive_language\", \"neither\"])\n",
    "        tokenized_data.set_format(\"torch\")\n",
    "        train_acc, val_acc, train_losses, val_losses, best_epoch, _ = train(model, train_dataloader, test_dataloader, scheduler, N_EPOCHS, learning_rate=5e-5)\n",
    "\n",
    "        best_train_accs.append(train_acc[best_epoch])\n",
    "        best_val_accs.append(val_acc[best_epoch])\n",
    "        best_train_losses.append(train_losses[best_epoch])\n",
    "        best_val_losses.append(val_losses[best_epoch])\n",
    "        best_epochs.append(best_epoch)\n",
    "\n",
    "        all_train_accs.append(train_acc)\n",
    "        all_train_losses.append(train_losses)\n",
    "        all_val_accs.append(val_acc)\n",
    "        all_val_losses.append(val_losses)\n"
   ]
  },
  {
   "cell_type": "code",
   "execution_count": 35,
   "metadata": {},
   "outputs": [
    {
     "data": {
      "application/vnd.jupyter.widget-view+json": {
       "model_id": "acfbdc60b7bd4da8a313d24619869b89",
       "version_major": 2,
       "version_minor": 0
      },
      "text/plain": [
       "  0%|          | 0/775 [00:00<?, ?it/s]"
      ]
     },
     "metadata": {},
     "output_type": "display_data"
    },
    {
     "data": {
      "image/png": "[encoded data removed]",
      "text/plain": [
       "<Figure size 640x480 with 2 Axes>"
      ]
     },
     "metadata": {},
     "output_type": "display_data"
    }
   ],
   "source": [
    "from sklearn.metrics import ConfusionMatrixDisplay\n",
    "model.load_state_dict(torch.load('model_0.pth',map_location=torch.device('cpu')))\n",
    "\n",
    "\n",
    "def eval_tesl(model, test_dataloader):\n",
    "    progress_bar = tqdm(range(len(test_dataloader)))\n",
    "    metric = evaluate.load(\"accuracy\")\n",
    "    confusion_metric = evaluate.load(\"confusion_matrix\")\n",
    "    model.eval()\n",
    "\n",
    "    epoch_loss = 0\n",
    "\n",
    "    for batch in test_dataloader:\n",
    "\n",
    "        input = batch[\"input_ids\"]\n",
    "        mask = batch[\"attention_mask\"]\n",
    "        y = batch[\"class\"]\n",
    "        \n",
    "        with torch.no_grad():\n",
    "            outputs = model(input, attention_mask=mask)\n",
    "\n",
    "        logits = outputs.logits\n",
    "        #print(logits)\n",
    "        #loss = criterion(outputs.logits, y, lam)\n",
    "        criterion = torch.nn.CrossEntropyLoss()\n",
    "        loss = criterion(outputs.logits, y)\n",
    "\n",
    "        predictions = torch.argmax(logits, dim=-1)\n",
    "\n",
    "        #print(\"Predictions:\", predictions)\n",
    "        #print(\"Labels:\", y) \n",
    "\n",
    "        metric.add_batch(predictions=predictions, references=y)\n",
    "        confusion_metric.add_batch(predictions=predictions, references=y)\n",
    "\n",
    "        epoch_loss += loss.item()\n",
    "        progress_bar.update(1)\n",
    "\n",
    "    epoch_loss /= len(test_dataloader)\n",
    "    accuracy = metric.compute()['accuracy']\n",
    "    confusion_matrix = confusion_metric.compute()[\"confusion_matrix\"]\n",
    "\n",
    "\n",
    "    confusion_matrix = np.array(confusion_matrix)\n",
    "    confusion_matrix_normalized = confusion_matrix.astype('float') / confusion_matrix.sum(axis=1)[:, np.newaxis]\n",
    "\n",
    "    disp = ConfusionMatrixDisplay(confusion_matrix=confusion_matrix_normalized, display_labels=('hate','offensive','neither'))\n",
    "    disp.plot(cmap=plt.cm.binary)\n",
    "    plt.show()\n",
    "    return epoch_loss, accuracy\n",
    "\n",
    "_,_= eval_tesl(model, test_dataloader)\n"
   ]
  },
  {
   "cell_type": "code",
   "execution_count": null,
   "metadata": {},
   "outputs": [],
   "source": []
  }
 ],
 "metadata": {
  "kernelspec": {
   "display_name": "Python 3",
   "language": "python",
   "name": "python3"
  },
  "language_info": {
   "codemirror_mode": {
    "name": "ipython",
    "version": 3
   },
   "file_extension": ".py",
   "mimetype": "text/x-python",
   "name": "python",
   "nbconvert_exporter": "python",
   "pygments_lexer": "ipython3",
   "version": "3.9.6"
  }
 },
 "nbformat": 4,
 "nbformat_minor": 2
}
