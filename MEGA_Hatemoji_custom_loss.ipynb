{
 "cells": [
  {
   "cell_type": "code",
   "execution_count": 1,
   "metadata": {},
   "outputs": [],
   "source": [
    "import torch\n",
    "import numpy as np\n",
    "from datasets import load_dataset\n",
    "from transformers import AutoTokenizer, MegaForSequenceClassification\n",
    "import torchinfo\n",
    "import os\n",
    "import pickle"
   ]
  },
  {
   "cell_type": "code",
   "execution_count": 2,
   "metadata": {},
   "outputs": [],
   "source": [
    "device = torch.device(\"cpu\")\n"
   ]
  },
  {
   "cell_type": "code",
   "execution_count": 3,
   "metadata": {},
   "outputs": [
    {
     "name": "stderr",
     "output_type": "stream",
     "text": [
      "Some weights of MegaForSequenceClassification were not initialized from the model checkpoint at mnaylor/mega-base-wikitext and are newly initialized: ['classifier.dense.bias', 'classifier.dense.weight', 'classifier.out_proj.bias', 'classifier.out_proj.weight']\n",
      "You should probably TRAIN this model on a down-stream task to be able to use it for predictions and inference.\n"
     ]
    },
    {
     "data": {
      "text/plain": [
       "==========================================================================================\n",
       "Layer (type:depth-idx)                                            Param #\n",
       "==========================================================================================\n",
       "MegaForSequenceClassification                                     --\n",
       "├─MegaModel: 1-1                                                  --\n",
       "│    └─MegaEmbeddings: 2-1                                        --\n",
       "│    │    └─Embedding: 3-1                                        6,433,920\n",
       "│    └─ModuleList: 2-2                                            --\n",
       "│    │    └─MegaBlock: 3-2                                        223,042\n",
       "│    │    └─MegaBlock: 3-3                                        223,042\n",
       "│    │    └─MegaBlock: 3-4                                        223,042\n",
       "│    │    └─MegaBlock: 3-5                                        223,042\n",
       "├─MegaClassificationHead: 1-2                                     --\n",
       "│    └─Linear: 2-3                                                16,512\n",
       "│    └─Dropout: 2-4                                               --\n",
       "│    └─Linear: 2-5                                                258\n",
       "==========================================================================================\n",
       "Total params: 7,342,858\n",
       "Trainable params: 7,342,858\n",
       "Non-trainable params: 0\n",
       "=========================================================================================="
      ]
     },
     "execution_count": 3,
     "metadata": {},
     "output_type": "execute_result"
    }
   ],
   "source": [
    "tokenizer = AutoTokenizer.from_pretrained(\"mnaylor/mega-base-wikitext\")\n",
    "model = MegaForSequenceClassification.from_pretrained(\n",
    "    \"mnaylor/mega-base-wikitext\")\n",
    "model.to(device)\n",
    "\n",
    "torchinfo.summary(model)"
   ]
  },
  {
   "cell_type": "code",
   "execution_count": 4,
   "metadata": {},
   "outputs": [
    {
     "name": "stdout",
     "output_type": "stream",
     "text": [
      "MegaForSequenceClassification(\n",
      "  (mega): MegaModel(\n",
      "    (embedding_layer): MegaEmbeddings(\n",
      "      (word_embeddings): Embedding(50265, 128, padding_idx=1)\n",
      "    )\n",
      "    (layers): ModuleList(\n",
      "      (0-3): 4 x MegaBlock(\n",
      "        (mega_layer): MegaMovingAverageGatedAttention(\n",
      "          (activation): SiLU()\n",
      "          (dropout): MegaDropout()\n",
      "          (hidden_dropout): MegaDropout()\n",
      "          (attention_dropout): MegaDropout()\n",
      "          (norm): MegaSequenceNorm(\n",
      "            (norm): MegaScaleNorm()\n",
      "          )\n",
      "          (ema_gate): MegaMultiDimensionDampedEma()\n",
      "          (v_proj): Linear(in_features=128, out_features=256, bias=True)\n",
      "          (mx_proj): Linear(in_features=128, out_features=576, bias=True)\n",
      "          (h_proj): Linear(in_features=256, out_features=128, bias=True)\n",
      "          (rel_pos_bias): MegaRotaryRelativePositionalBias()\n",
      "          (softmax): Softmax(dim=-1)\n",
      "        )\n",
      "        (nffn): MegaNormalizedFeedForwardNetwork(\n",
      "          (activation): SiLU()\n",
      "          (dropout): MegaDropout()\n",
      "          (hidden_dropout): MegaDropout()\n",
      "          (norm): MegaSequenceNorm(\n",
      "            (norm): MegaScaleNorm()\n",
      "          )\n",
      "          (fc1): Linear(in_features=128, out_features=256, bias=True)\n",
      "          (fc2): Linear(in_features=256, out_features=128, bias=True)\n",
      "        )\n",
      "      )\n",
      "    )\n",
      "  )\n",
      "  (classifier): MegaClassificationHead(\n",
      "    (dense): Linear(in_features=128, out_features=128, bias=True)\n",
      "    (dropout): Dropout(p=0.1, inplace=False)\n",
      "    (out_proj): Linear(in_features=128, out_features=2, bias=True)\n",
      "  )\n",
      ")\n"
     ]
    }
   ],
   "source": [
    "print(model)"
   ]
  },
  {
   "cell_type": "code",
   "execution_count": 5,
   "metadata": {},
   "outputs": [
    {
     "name": "stdout",
     "output_type": "stream",
     "text": [
      "{'case_id': 0, 'templ_id': 1.0, 'test_group_id': 1, 'text': 'I want to 🔪 all women', 'target': 'women', 'functionality': 'verb_swap', 'set': 'orig', 'label_gold': 1, 'unrealistic_flags': 0, 'included_in_test_suite': 1}\n"
     ]
    }
   ],
   "source": [
    "import pandas as pd\n",
    "\n",
    "data_check_test = load_dataset(\n",
    "    \"csv\", data_files=\"datasets/Hatemoji-main/HatemojiCheck/test.csv\"\n",
    "    )\n",
    "print(data_check_test['train'][0])\n",
    "\n",
    "# Dataset only have training data, hence split it into train/test\n",
    "data_check_test = data_check_test['train'].train_test_split(test_size=0.25)\n"
   ]
  },
  {
   "cell_type": "code",
   "execution_count": 6,
   "metadata": {},
   "outputs": [
    {
     "data": {
      "application/vnd.jupyter.widget-view+json": {
       "model_id": "6435887398434186a224443c92914548",
       "version_major": 2,
       "version_minor": 0
      },
      "text/plain": [
       "Map:   0%|          | 0/2947 [00:00<?, ? examples/s]"
      ]
     },
     "metadata": {},
     "output_type": "display_data"
    },
    {
     "data": {
      "application/vnd.jupyter.widget-view+json": {
       "model_id": "9da33ce868824fbc8a57b0e3fc550029",
       "version_major": 2,
       "version_minor": 0
      },
      "text/plain": [
       "Map:   0%|          | 0/983 [00:00<?, ? examples/s]"
      ]
     },
     "metadata": {},
     "output_type": "display_data"
    }
   ],
   "source": [
    "def tokenize_func(examples):\n",
    "    return tokenizer(\n",
    "        examples[\"text\"], padding=\"max_length\", truncation=True\n",
    "        )\n",
    "\n",
    "tokenized_data = data_check_test.map(tokenize_func, batched=True)\n"
   ]
  },
  {
   "cell_type": "code",
   "execution_count": 7,
   "metadata": {},
   "outputs": [
    {
     "name": "stdout",
     "output_type": "stream",
     "text": [
      "DatasetDict({\n",
      "    train: Dataset({\n",
      "        features: ['labels', 'input_ids', 'attention_mask'],\n",
      "        num_rows: 2947\n",
      "    })\n",
      "    test: Dataset({\n",
      "        features: ['labels', 'input_ids', 'attention_mask'],\n",
      "        num_rows: 983\n",
      "    })\n",
      "})\n"
     ]
    }
   ],
   "source": [
    "# Prepare for torch\n",
    "from torch.utils.data import DataLoader\n",
    "\n",
    "tokenized_data = tokenized_data.remove_columns([\n",
    "    \"text\", \"case_id\", \"templ_id\", \"test_group_id\", \"target\", \"functionality\", \"set\", \"unrealistic_flags\", \"included_in_test_suite\"])\n",
    "\n",
    "tokenized_data = tokenized_data.rename_column(\"label_gold\", \"labels\")\n",
    "tokenized_data.set_format(\"torch\")\n",
    "\n",
    "print(tokenized_data)\n"
   ]
  },
  {
   "cell_type": "code",
   "execution_count": 8,
   "metadata": {},
   "outputs": [],
   "source": [
    "\n",
    "train_dataloader = DataLoader(\n",
    "    tokenized_data['train'], batch_size=64, shuffle=True)\n",
    "test_dataloader = DataLoader(tokenized_data['test'], batch_size=64)"
   ]
  },
  {
   "cell_type": "markdown",
   "metadata": {},
   "source": [
    "### fine-tuning with custom loss"
   ]
  },
  {
   "cell_type": "code",
   "execution_count": 9,
   "metadata": {},
   "outputs": [
    {
     "data": {
      "application/vnd.jupyter.widget-view+json": {
       "model_id": "9e31c2c61bd74ba5b6ae1ef15c187213",
       "version_major": 2,
       "version_minor": 0
      },
      "text/plain": [
       "  0%|          | 0/47 [00:00<?, ?it/s]"
      ]
     },
     "metadata": {},
     "output_type": "display_data"
    },
    {
     "data": {
      "application/vnd.jupyter.widget-view+json": {
       "model_id": "d0cdd046812a47428ad27bc0d232293c",
       "version_major": 2,
       "version_minor": 0
      },
      "text/plain": [
       "  0%|          | 0/16 [00:00<?, ?it/s]"
      ]
     },
     "metadata": {},
     "output_type": "display_data"
    },
    {
     "name": "stdout",
     "output_type": "stream",
     "text": [
      "Epoch 1 accuracy: train=0.650, test=0.673\n"
     ]
    },
    {
     "data": {
      "application/vnd.jupyter.widget-view+json": {
       "model_id": "b538029d6ee342f4a6aa2ff06295903b",
       "version_major": 2,
       "version_minor": 0
      },
      "text/plain": [
       "  0%|          | 0/47 [00:00<?, ?it/s]"
      ]
     },
     "metadata": {},
     "output_type": "display_data"
    },
    {
     "data": {
      "application/vnd.jupyter.widget-view+json": {
       "model_id": "6ea9722dd7714647a76a05a235661536",
       "version_major": 2,
       "version_minor": 0
      },
      "text/plain": [
       "  0%|          | 0/16 [00:00<?, ?it/s]"
      ]
     },
     "metadata": {},
     "output_type": "display_data"
    },
    {
     "name": "stdout",
     "output_type": "stream",
     "text": [
      "Epoch 2 accuracy: train=0.672, test=0.681\n"
     ]
    },
    {
     "data": {
      "application/vnd.jupyter.widget-view+json": {
       "model_id": "f5763db12d93458a97fcac572c164ce5",
       "version_major": 2,
       "version_minor": 0
      },
      "text/plain": [
       "  0%|          | 0/47 [00:00<?, ?it/s]"
      ]
     },
     "metadata": {},
     "output_type": "display_data"
    },
    {
     "data": {
      "application/vnd.jupyter.widget-view+json": {
       "model_id": "2da82b39616849e7a68734b923dd25e0",
       "version_major": 2,
       "version_minor": 0
      },
      "text/plain": [
       "  0%|          | 0/16 [00:00<?, ?it/s]"
      ]
     },
     "metadata": {},
     "output_type": "display_data"
    },
    {
     "name": "stdout",
     "output_type": "stream",
     "text": [
      "Epoch 3 accuracy: train=0.675, test=0.715\n"
     ]
    },
    {
     "data": {
      "application/vnd.jupyter.widget-view+json": {
       "model_id": "c6c3ac9bedd5469eac00ee1cad1cdddd",
       "version_major": 2,
       "version_minor": 0
      },
      "text/plain": [
       "  0%|          | 0/47 [00:00<?, ?it/s]"
      ]
     },
     "metadata": {},
     "output_type": "display_data"
    },
    {
     "data": {
      "application/vnd.jupyter.widget-view+json": {
       "model_id": "1f5ca77a75d845a4b1162db9271f2938",
       "version_major": 2,
       "version_minor": 0
      },
      "text/plain": [
       "  0%|          | 0/16 [00:00<?, ?it/s]"
      ]
     },
     "metadata": {},
     "output_type": "display_data"
    },
    {
     "name": "stdout",
     "output_type": "stream",
     "text": [
      "Epoch 4 accuracy: train=0.687, test=0.719\n"
     ]
    },
    {
     "data": {
      "application/vnd.jupyter.widget-view+json": {
       "model_id": "ddd8e6374e41466a9d486a4d30c96c8b",
       "version_major": 2,
       "version_minor": 0
      },
      "text/plain": [
       "  0%|          | 0/47 [00:00<?, ?it/s]"
      ]
     },
     "metadata": {},
     "output_type": "display_data"
    },
    {
     "data": {
      "application/vnd.jupyter.widget-view+json": {
       "model_id": "d86c0e11ba9c4deb907871114e85dabd",
       "version_major": 2,
       "version_minor": 0
      },
      "text/plain": [
       "  0%|          | 0/16 [00:00<?, ?it/s]"
      ]
     },
     "metadata": {},
     "output_type": "display_data"
    },
    {
     "name": "stdout",
     "output_type": "stream",
     "text": [
      "Epoch 5 accuracy: train=0.716, test=0.718\n"
     ]
    },
    {
     "data": {
      "application/vnd.jupyter.widget-view+json": {
       "model_id": "c87898af9d7b494696cfdb82060ce133",
       "version_major": 2,
       "version_minor": 0
      },
      "text/plain": [
       "  0%|          | 0/47 [00:00<?, ?it/s]"
      ]
     },
     "metadata": {},
     "output_type": "display_data"
    },
    {
     "data": {
      "application/vnd.jupyter.widget-view+json": {
       "model_id": "9576ec36bfda4560a0f1f25dbbb177d5",
       "version_major": 2,
       "version_minor": 0
      },
      "text/plain": [
       "  0%|          | 0/16 [00:00<?, ?it/s]"
      ]
     },
     "metadata": {},
     "output_type": "display_data"
    },
    {
     "name": "stdout",
     "output_type": "stream",
     "text": [
      "Epoch 6 accuracy: train=0.727, test=0.744\n"
     ]
    },
    {
     "data": {
      "application/vnd.jupyter.widget-view+json": {
       "model_id": "504d25c68aa1434ab8bc622f47590799",
       "version_major": 2,
       "version_minor": 0
      },
      "text/plain": [
       "  0%|          | 0/47 [00:00<?, ?it/s]"
      ]
     },
     "metadata": {},
     "output_type": "display_data"
    },
    {
     "data": {
      "application/vnd.jupyter.widget-view+json": {
       "model_id": "84a61f927eb04689977bdd36e0959746",
       "version_major": 2,
       "version_minor": 0
      },
      "text/plain": [
       "  0%|          | 0/16 [00:00<?, ?it/s]"
      ]
     },
     "metadata": {},
     "output_type": "display_data"
    },
    {
     "name": "stdout",
     "output_type": "stream",
     "text": [
      "Epoch 7 accuracy: train=0.743, test=0.752\n"
     ]
    },
    {
     "data": {
      "application/vnd.jupyter.widget-view+json": {
       "model_id": "5164ea538b2d440c8f710f1a3774fbd4",
       "version_major": 2,
       "version_minor": 0
      },
      "text/plain": [
       "  0%|          | 0/47 [00:00<?, ?it/s]"
      ]
     },
     "metadata": {},
     "output_type": "display_data"
    },
    {
     "data": {
      "application/vnd.jupyter.widget-view+json": {
       "model_id": "d8b1b0603b5943e9b3fcbe8bb2c777fa",
       "version_major": 2,
       "version_minor": 0
      },
      "text/plain": [
       "  0%|          | 0/16 [00:00<?, ?it/s]"
      ]
     },
     "metadata": {},
     "output_type": "display_data"
    },
    {
     "name": "stdout",
     "output_type": "stream",
     "text": [
      "Epoch 8 accuracy: train=0.750, test=0.744\n"
     ]
    },
    {
     "data": {
      "application/vnd.jupyter.widget-view+json": {
       "model_id": "12c40fb7becd4b10b4435b957c63403d",
       "version_major": 2,
       "version_minor": 0
      },
      "text/plain": [
       "  0%|          | 0/47 [00:00<?, ?it/s]"
      ]
     },
     "metadata": {},
     "output_type": "display_data"
    },
    {
     "data": {
      "application/vnd.jupyter.widget-view+json": {
       "model_id": "a9164fd92f6d40569dcc8202348e49d9",
       "version_major": 2,
       "version_minor": 0
      },
      "text/plain": [
       "  0%|          | 0/16 [00:00<?, ?it/s]"
      ]
     },
     "metadata": {},
     "output_type": "display_data"
    },
    {
     "name": "stdout",
     "output_type": "stream",
     "text": [
      "Epoch 9 accuracy: train=0.759, test=0.748\n"
     ]
    },
    {
     "data": {
      "application/vnd.jupyter.widget-view+json": {
       "model_id": "8e6336aa6458490285a97f645bc45201",
       "version_major": 2,
       "version_minor": 0
      },
      "text/plain": [
       "  0%|          | 0/47 [00:00<?, ?it/s]"
      ]
     },
     "metadata": {},
     "output_type": "display_data"
    },
    {
     "data": {
      "application/vnd.jupyter.widget-view+json": {
       "model_id": "a6755d8537ac4e3689390837848b65fa",
       "version_major": 2,
       "version_minor": 0
      },
      "text/plain": [
       "  0%|          | 0/16 [00:00<?, ?it/s]"
      ]
     },
     "metadata": {},
     "output_type": "display_data"
    },
    {
     "name": "stdout",
     "output_type": "stream",
     "text": [
      "Epoch 10 accuracy: train=0.760, test=0.759\n"
     ]
    },
    {
     "data": {
      "application/vnd.jupyter.widget-view+json": {
       "model_id": "72947659a61740ffaa42bfba5615431c",
       "version_major": 2,
       "version_minor": 0
      },
      "text/plain": [
       "  0%|          | 0/47 [00:00<?, ?it/s]"
      ]
     },
     "metadata": {},
     "output_type": "display_data"
    },
    {
     "data": {
      "application/vnd.jupyter.widget-view+json": {
       "model_id": "c3a45cb64ada474bae81804857901337",
       "version_major": 2,
       "version_minor": 0
      },
      "text/plain": [
       "  0%|          | 0/16 [00:00<?, ?it/s]"
      ]
     },
     "metadata": {},
     "output_type": "display_data"
    },
    {
     "name": "stdout",
     "output_type": "stream",
     "text": [
      "Epoch 11 accuracy: train=0.759, test=0.752\n"
     ]
    },
    {
     "data": {
      "application/vnd.jupyter.widget-view+json": {
       "model_id": "9b3009192e4540008f3a0e01ce3cf925",
       "version_major": 2,
       "version_minor": 0
      },
      "text/plain": [
       "  0%|          | 0/47 [00:00<?, ?it/s]"
      ]
     },
     "metadata": {},
     "output_type": "display_data"
    },
    {
     "data": {
      "application/vnd.jupyter.widget-view+json": {
       "model_id": "4a0b47996f3347eabcdf772ff2b6c088",
       "version_major": 2,
       "version_minor": 0
      },
      "text/plain": [
       "  0%|          | 0/16 [00:00<?, ?it/s]"
      ]
     },
     "metadata": {},
     "output_type": "display_data"
    },
    {
     "name": "stdout",
     "output_type": "stream",
     "text": [
      "Epoch 12 accuracy: train=0.770, test=0.798\n"
     ]
    },
    {
     "data": {
      "application/vnd.jupyter.widget-view+json": {
       "model_id": "74e52764b727425ba9570313d9c11af4",
       "version_major": 2,
       "version_minor": 0
      },
      "text/plain": [
       "  0%|          | 0/47 [00:00<?, ?it/s]"
      ]
     },
     "metadata": {},
     "output_type": "display_data"
    },
    {
     "data": {
      "application/vnd.jupyter.widget-view+json": {
       "model_id": "cf7139defb4745d8af5e187d2b0c9e92",
       "version_major": 2,
       "version_minor": 0
      },
      "text/plain": [
       "  0%|          | 0/16 [00:00<?, ?it/s]"
      ]
     },
     "metadata": {},
     "output_type": "display_data"
    },
    {
     "name": "stdout",
     "output_type": "stream",
     "text": [
      "Epoch 13 accuracy: train=0.771, test=0.770\n"
     ]
    },
    {
     "data": {
      "application/vnd.jupyter.widget-view+json": {
       "model_id": "d5a28816c50641a39a73bb42e3611516",
       "version_major": 2,
       "version_minor": 0
      },
      "text/plain": [
       "  0%|          | 0/47 [00:00<?, ?it/s]"
      ]
     },
     "metadata": {},
     "output_type": "display_data"
    },
    {
     "data": {
      "application/vnd.jupyter.widget-view+json": {
       "model_id": "32d2dae9a8be47b09910b5376b8b4cd0",
       "version_major": 2,
       "version_minor": 0
      },
      "text/plain": [
       "  0%|          | 0/16 [00:00<?, ?it/s]"
      ]
     },
     "metadata": {},
     "output_type": "display_data"
    },
    {
     "name": "stdout",
     "output_type": "stream",
     "text": [
      "Epoch 14 accuracy: train=0.789, test=0.792\n"
     ]
    },
    {
     "data": {
      "application/vnd.jupyter.widget-view+json": {
       "model_id": "c33af2e912ff42f5a29b94b5da6565b3",
       "version_major": 2,
       "version_minor": 0
      },
      "text/plain": [
       "  0%|          | 0/47 [00:00<?, ?it/s]"
      ]
     },
     "metadata": {},
     "output_type": "display_data"
    },
    {
     "data": {
      "application/vnd.jupyter.widget-view+json": {
       "model_id": "6bd34793c4c940d5ab50ca7d2e8df8a0",
       "version_major": 2,
       "version_minor": 0
      },
      "text/plain": [
       "  0%|          | 0/16 [00:00<?, ?it/s]"
      ]
     },
     "metadata": {},
     "output_type": "display_data"
    },
    {
     "name": "stdout",
     "output_type": "stream",
     "text": [
      "Epoch 15 accuracy: train=0.786, test=0.767\n"
     ]
    },
    {
     "data": {
      "application/vnd.jupyter.widget-view+json": {
       "model_id": "b889c7bd1f59418d94bbbea204eb21b6",
       "version_major": 2,
       "version_minor": 0
      },
      "text/plain": [
       "  0%|          | 0/47 [00:00<?, ?it/s]"
      ]
     },
     "metadata": {},
     "output_type": "display_data"
    },
    {
     "data": {
      "application/vnd.jupyter.widget-view+json": {
       "model_id": "ca0f9ba6ffc94e1aa1d36b04e6a13d60",
       "version_major": 2,
       "version_minor": 0
      },
      "text/plain": [
       "  0%|          | 0/16 [00:00<?, ?it/s]"
      ]
     },
     "metadata": {},
     "output_type": "display_data"
    },
    {
     "name": "stdout",
     "output_type": "stream",
     "text": [
      "Epoch 16 accuracy: train=0.786, test=0.779\n"
     ]
    }
   ],
   "source": [
    "from tqdm.auto import tqdm\n",
    "import evaluate\n",
    "import matplotlib.pyplot as plt\n",
    "from transformers import get_scheduler\n",
    "from torch.optim import AdamW\n",
    "import copy\n",
    "\n",
    "def custom_loss(input, target, lam):\n",
    "    with torch.no_grad():\n",
    "        _, preds = torch.max(input, 1)\n",
    "    \n",
    "        # We predict nothing and there is hate speech\n",
    "        mask_pred2 = (preds == 0) & (target == 1)\n",
    "\n",
    "        mask_else = ~mask_pred2\n",
    "        \n",
    "        is_empty_pred2 = torch.all(~mask_pred2).to(device)\n",
    "        #is_empty_pred1 = torch.all(~mask_pred1).to(device)\n",
    "        is_empty_else = torch.all(~mask_else).to(device)\n",
    "\n",
    "    loss = torch.tensor(0.0).to(device)\n",
    "\n",
    "    if not is_empty_pred2:\n",
    "        loss_pred2 = lam * torch.sum(torch.nn.CrossEntropyLoss()(input[mask_pred2], target[mask_pred2])).to(device)\n",
    "        loss += loss_pred2\n",
    "\n",
    "    #if not is_empty_pred1:\n",
    "    #    loss_pred1 = lam/2 * torch.sum(torch.nn.CrossEntropyLoss()(input[mask_pred1], target[mask_pred1])).to(device)\n",
    "    #    loss += loss_pred1\n",
    "\n",
    "    if not is_empty_else:\n",
    "        loss_else = torch.sum(torch.nn.CrossEntropyLoss()(input[mask_else], target[mask_else])).to(device)\n",
    "        loss += loss_else\n",
    "\n",
    "    return loss\n",
    "\n",
    "def train_epoch(model, train_dataloader, optimizer, lr_scheduler):\n",
    "    progress_bar = tqdm(range(len(train_dataloader)))\n",
    "    metric = evaluate.load(\"accuracy\")\n",
    "    model.train()\n",
    "    #criterion = torch.nn.CrossEntropyLoss()\n",
    "\n",
    "    epoch_loss = 0\n",
    "    for batch in train_dataloader:\n",
    "        batch = {k: v.to(device) for k, v in batch.items()}\n",
    "\n",
    "        outputs = model(**batch)\n",
    "        logits = outputs.logits\n",
    "        loss = custom_loss(logits, batch[\"labels\"], lam=2)\n",
    "        \n",
    "        loss.backward()\n",
    "        optimizer.step()\n",
    "        \n",
    "        optimizer.zero_grad()\n",
    "        \n",
    "        predictions = torch.argmax(logits, dim=-1)\n",
    "        \n",
    "        metric.add_batch(predictions=predictions, references=batch[\"labels\"])\n",
    "\n",
    "        epoch_loss += loss.item()\n",
    "        progress_bar.update(1)\n",
    "    \n",
    "    lr_scheduler.step()\n",
    "    epoch_loss /= len(train_dataloader)\n",
    "    accuracy = metric.compute()['accuracy']\n",
    "\n",
    "    return epoch_loss, accuracy\n",
    "\n",
    "def eval(model, test_dataloader):\n",
    "    progress_bar = tqdm(range(len(test_dataloader)))\n",
    "    metric = evaluate.load(\"accuracy\")\n",
    "    model.eval()\n",
    "    model.mega.requires_grad_(False)\n",
    "\n",
    "    epoch_loss = 0\n",
    "    for batch in test_dataloader:\n",
    "        batch = {k: v.to(device) for k, v in batch.items()}\n",
    "        with torch.no_grad():\n",
    "            outputs = model(**batch)\n",
    "\n",
    "        logits = outputs.logits\n",
    "        loss = custom_loss(logits, batch[\"labels\"], lam=2)\n",
    "\n",
    "        predictions = torch.argmax(logits, dim=-1)\n",
    "\n",
    "        metric.add_batch(predictions=predictions, references=batch[\"labels\"])\n",
    "\n",
    "        epoch_loss += loss.item()\n",
    "        progress_bar.update(1)\n",
    "\n",
    "    epoch_loss /= len(test_dataloader)\n",
    "    accuracy = metric.compute()['accuracy']\n",
    "    \n",
    "    return epoch_loss, accuracy\n",
    "\n",
    "def train(model,\n",
    "          train_dataloader,\n",
    "          test_dataloader,\n",
    "          num_epochs=2,\n",
    "          learning_rate=5e-5,\n",
    "          patience=4):\n",
    "\n",
    "    # count epochs where the model didn't improve\n",
    "    counter = 0\n",
    "    best_val_acc = 0\n",
    "    best_epoch = 0\n",
    "    best_model = None\n",
    "\n",
    "    optimizer = AdamW(model.parameters(), lr=learning_rate)\n",
    "\n",
    "    lr_scheduler = get_scheduler(\n",
    "        name=\"polynomial\", optimizer=optimizer, num_warmup_steps=1,     num_training_steps=num_epochs*len(train_dataloader)\n",
    "    )\n",
    "    train_accuracies = []\n",
    "    val_accuracies = []\n",
    "    train_losses = []\n",
    "    val_losses = []\n",
    "    for epoch in range(num_epochs):\n",
    "        train_loss, train_acc = train_epoch(\n",
    "            model, train_dataloader, optimizer, lr_scheduler)\n",
    "        val_loss, val_acc = eval(model, test_dataloader)\n",
    "\n",
    "        print(f\"Epoch {epoch+1} accuracy: train={train_acc:.3f}, test={val_acc:.3f}\")\n",
    "\n",
    "        train_accuracies.append(train_acc)\n",
    "        val_accuracies.append(val_acc)\n",
    "\n",
    "        train_losses.append(train_loss)\n",
    "        val_losses.append(val_loss)\n",
    "\n",
    "        # Unfreeze MEGA\n",
    "        if epoch >= 1:\n",
    "            model.mega.requires_grad_(True)\n",
    "            \n",
    "        # early stopping\n",
    "        if val_acc <= best_val_acc + 1e-4:\n",
    "            counter += 1\n",
    "            if counter >= patience:\n",
    "                break\n",
    "        else:\n",
    "            best_val_acc = val_acc\n",
    "            counter = 0\n",
    "            best_epoch = epoch\n",
    "            best_model = copy.deepcopy(model.state_dict())\n",
    "\n",
    "    return train_accuracies, val_accuracies, train_losses, val_losses, best_epoch, best_model\n",
    "\n",
    "model.mega.requires_grad_(False)\n",
    "N_EPOCHS = 20\n",
    "train_acc, val_acc, train_losses, val_losses, best_epoch, best_model = train(model, train_dataloader, test_dataloader, N_EPOCHS, learning_rate=1e-4)\n",
    "\n",
    "all_data = (train_acc, val_acc, train_losses, val_losses, best_epoch, best_model)\n",
    "with open(f\"mega_hatemoji_custom_loss.obj\", \"wb\") as f:\n",
    "    pickle.dump(all_data, f)"
   ]
  },
  {
   "cell_type": "code",
   "execution_count": 10,
   "metadata": {},
   "outputs": [
    {
     "data": {
      "image/png": "[encoded data removed]",
      "text/plain": [
       "<Figure size 1000x400 with 2 Axes>"
      ]
     },
     "metadata": {},
     "output_type": "display_data"
    }
   ],
   "source": [
    "with open(f\"mega_hatemoji_custom_loss.obj\", \"rb\") as f:\n",
    "    train_acc, val_acc, train_losses, val_losses, best_epoch, best_model = pickle.load(f)\n",
    "\n",
    "fig, ax = plt.subplots(1,2, figsize=(10,4))\n",
    "epoch_axis = range(1, len(train_losses)+1)\n",
    "ax[0].plot(epoch_axis, train_losses, label='train')\n",
    "ax[0].plot(epoch_axis, val_losses, label='val')\n",
    "ax[0].axvline(best_epoch+1, label='best', linestyle='--')\n",
    "ax[0].set_xlabel(\"Epoch\")\n",
    "ax[0].set_ylabel(\"Loss\")\n",
    "#ax[0].set_xticks(epoch_axis)\n",
    "ax[0].legend()\n",
    "\n",
    "ax[1].plot(epoch_axis, train_acc, label='train')\n",
    "ax[1].plot(epoch_axis, val_acc, label='val')\n",
    "ax[1].axvline(best_epoch+1, label='best', linestyle='--')\n",
    "ax[1].set_xlabel(\"Epoch\")\n",
    "ax[1].set_ylabel(\"Accuracy\")\n",
    "#ax[1].set_xticks(epoch_axis)\n",
    "ax[1].legend()\n",
    "plt.show()"
   ]
  },
  {
   "cell_type": "code",
   "execution_count": 14,
   "metadata": {},
   "outputs": [
    {
     "data": {
      "application/vnd.jupyter.widget-view+json": {
       "model_id": "34b0ecf5323e481e805bbfe70776e5f9",
       "version_major": 2,
       "version_minor": 0
      },
      "text/plain": [
       "  0%|          | 0/16 [00:00<?, ?it/s]"
      ]
     },
     "metadata": {},
     "output_type": "display_data"
    },
    {
     "name": "stdout",
     "output_type": "stream",
     "text": [
      "[[0.38216561 0.61783439]\n",
      " [0.00747384 0.99252616]]\n"
     ]
    },
    {
     "data": {
      "image/png": "[encoded data removed]",
      "text/plain": [
       "<Figure size 640x480 with 2 Axes>"
      ]
     },
     "metadata": {},
     "output_type": "display_data"
    }
   ],
   "source": [
    "from sklearn.metrics import ConfusionMatrixDisplay\n",
    "\n",
    "def eval_confusion(model, test_dataloader):\n",
    "    progress_bar = tqdm(range(len(test_dataloader)))\n",
    "    model.eval()\n",
    "    confusion_metric = evaluate.load(\"confusion_matrix\")\n",
    "\n",
    "    for batch in test_dataloader:\n",
    "        batch = {k: v.to(device) for k, v in batch.items()}\n",
    "        \n",
    "        with torch.no_grad():\n",
    "            outputs = model(**batch)\n",
    "\n",
    "        logits = outputs.logits\n",
    "        predictions = torch.argmax(logits, dim=-1)\n",
    "\n",
    "        confusion_metric.add_batch(predictions=predictions, references=batch[\"labels\"])\n",
    "\n",
    "        progress_bar.update(1)\n",
    "\n",
    "    confusion_matrix = confusion_metric.compute()[\"confusion_matrix\"]\n",
    "\n",
    "    return np.array(confusion_matrix)\n",
    "\n",
    "model.load_state_dict(best_model)\n",
    "confusion_matrix = eval_confusion(model, test_dataloader)\n",
    "confusion_matrix_normalized = confusion_matrix.astype('float') / confusion_matrix.sum(axis=1)[:, np.newaxis]\n",
    "\n",
    "disp = ConfusionMatrixDisplay(confusion_matrix=confusion_matrix_normalized, display_labels=('not hate','hate'))\n",
    "disp.plot(cmap=plt.cm.binary)\n",
    "\n",
    "plt.savefig(f\"hatemoji_confusion_customloss.png\", dpi=300, bbox_inches='tight')\n",
    "\n",
    "print(confusion_matrix_normalized)"
   ]
  }
 ],
 "metadata": {
  "kernelspec": {
   "display_name": "Python 3",
   "language": "python",
   "name": "python3"
  },
  "language_info": {
   "codemirror_mode": {
    "name": "ipython",
    "version": 3
   },
   "file_extension": ".py",
   "mimetype": "text/x-python",
   "name": "python",
   "nbconvert_exporter": "python",
   "pygments_lexer": "ipython3",
   "version": "3.12.0"
  }
 },
 "nbformat": 4,
 "nbformat_minor": 2
}
