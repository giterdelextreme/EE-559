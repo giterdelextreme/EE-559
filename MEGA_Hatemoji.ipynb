{
 "cells": [
  {
   "cell_type": "code",
   "execution_count": 1,
   "metadata": {},
   "outputs": [],
   "source": [
    "import torch\n",
    "import numpy as np\n",
    "from datasets import load_dataset\n",
    "from transformers import AutoTokenizer, MegaForSequenceClassification\n",
    "import torchinfo\n",
    "import os"
   ]
  },
  {
   "cell_type": "code",
   "execution_count": 2,
   "metadata": {},
   "outputs": [],
   "source": [
    "device = torch.device(\"cpu\")\n"
   ]
  },
  {
   "cell_type": "code",
   "execution_count": 3,
   "metadata": {},
   "outputs": [
    {
     "name": "stderr",
     "output_type": "stream",
     "text": [
      "Some weights of MegaForSequenceClassification were not initialized from the model checkpoint at mnaylor/mega-base-wikitext and are newly initialized: ['classifier.dense.bias', 'classifier.dense.weight', 'classifier.out_proj.bias', 'classifier.out_proj.weight']\n",
      "You should probably TRAIN this model on a down-stream task to be able to use it for predictions and inference.\n"
     ]
    },
    {
     "data": {
      "text/plain": [
       "MegaForSequenceClassification(\n",
       "  (mega): MegaModel(\n",
       "    (embedding_layer): MegaEmbeddings(\n",
       "      (word_embeddings): Embedding(50265, 128, padding_idx=1)\n",
       "    )\n",
       "    (layers): ModuleList(\n",
       "      (0-3): 4 x MegaBlock(\n",
       "        (mega_layer): MegaMovingAverageGatedAttention(\n",
       "          (activation): SiLU()\n",
       "          (dropout): MegaDropout()\n",
       "          (hidden_dropout): MegaDropout()\n",
       "          (attention_dropout): MegaDropout()\n",
       "          (norm): MegaSequenceNorm(\n",
       "            (norm): MegaScaleNorm()\n",
       "          )\n",
       "          (ema_gate): MegaMultiDimensionDampedEma()\n",
       "          (v_proj): Linear(in_features=128, out_features=256, bias=True)\n",
       "          (mx_proj): Linear(in_features=128, out_features=576, bias=True)\n",
       "          (h_proj): Linear(in_features=256, out_features=128, bias=True)\n",
       "          (rel_pos_bias): MegaRotaryRelativePositionalBias()\n",
       "          (softmax): Softmax(dim=-1)\n",
       "        )\n",
       "        (nffn): MegaNormalizedFeedForwardNetwork(\n",
       "          (activation): SiLU()\n",
       "          (dropout): MegaDropout()\n",
       "          (hidden_dropout): MegaDropout()\n",
       "          (norm): MegaSequenceNorm(\n",
       "            (norm): MegaScaleNorm()\n",
       "          )\n",
       "          (fc1): Linear(in_features=128, out_features=256, bias=True)\n",
       "          (fc2): Linear(in_features=256, out_features=128, bias=True)\n",
       "        )\n",
       "      )\n",
       "    )\n",
       "  )\n",
       "  (classifier): MegaClassificationHead(\n",
       "    (dense): Linear(in_features=128, out_features=128, bias=True)\n",
       "    (dropout): Dropout(p=0.1, inplace=False)\n",
       "    (out_proj): Linear(in_features=128, out_features=2, bias=True)\n",
       "  )\n",
       ")"
      ]
     },
     "execution_count": 3,
     "metadata": {},
     "output_type": "execute_result"
    }
   ],
   "source": [
    "tokenizer = AutoTokenizer.from_pretrained(\"mnaylor/mega-base-wikitext\")\n",
    "model = MegaForSequenceClassification.from_pretrained(\n",
    "    \"mnaylor/mega-base-wikitext\")\n",
    "model.to(device)\n"
   ]
  },
  {
   "cell_type": "code",
   "execution_count": 4,
   "metadata": {},
   "outputs": [
    {
     "data": {
      "text/plain": [
       "==========================================================================================\n",
       "Layer (type:depth-idx)                                            Param #\n",
       "==========================================================================================\n",
       "MegaForSequenceClassification                                     --\n",
       "├─MegaModel: 1-1                                                  --\n",
       "│    └─MegaEmbeddings: 2-1                                        --\n",
       "│    │    └─Embedding: 3-1                                        6,433,920\n",
       "│    └─ModuleList: 2-2                                            --\n",
       "│    │    └─MegaBlock: 3-2                                        223,042\n",
       "│    │    └─MegaBlock: 3-3                                        223,042\n",
       "│    │    └─MegaBlock: 3-4                                        223,042\n",
       "│    │    └─MegaBlock: 3-5                                        223,042\n",
       "├─MegaClassificationHead: 1-2                                     --\n",
       "│    └─Linear: 2-3                                                16,512\n",
       "│    └─Dropout: 2-4                                               --\n",
       "│    └─Linear: 2-5                                                258\n",
       "==========================================================================================\n",
       "Total params: 7,342,858\n",
       "Trainable params: 7,342,858\n",
       "Non-trainable params: 0\n",
       "=========================================================================================="
      ]
     },
     "execution_count": 4,
     "metadata": {},
     "output_type": "execute_result"
    }
   ],
   "source": [
    "torchinfo.summary(model)"
   ]
  },
  {
   "cell_type": "code",
   "execution_count": 5,
   "metadata": {},
   "outputs": [
    {
     "name": "stdout",
     "output_type": "stream",
     "text": [
      "{'case_id': 0, 'templ_id': 1.0, 'test_group_id': 1, 'text': 'I want to 🔪 all women', 'target': 'women', 'functionality': 'verb_swap', 'set': 'orig', 'label_gold': 1, 'unrealistic_flags': 0, 'included_in_test_suite': 1}\n"
     ]
    }
   ],
   "source": [
    "import pandas as pd\n",
    "\n",
    "data_check_test = load_dataset(\n",
    "    \"csv\", data_files=\"datasets/Hatemoji-main/HatemojiCheck/test.csv\"\n",
    "    )\n",
    "print(data_check_test['train'][0])\n",
    "\n",
    "# Dataset only have training data, hence split it into train/test\n",
    "data_check_test = data_check_test['train'].train_test_split(test_size=0.5)\n"
   ]
  },
  {
   "cell_type": "code",
   "execution_count": 6,
   "metadata": {},
   "outputs": [
    {
     "data": {
      "application/vnd.jupyter.widget-view+json": {
       "model_id": "1fbd9d8338f549c781b44c7edbf883ff",
       "version_major": 2,
       "version_minor": 0
      },
      "text/plain": [
       "Map:   0%|          | 0/1965 [00:00<?, ? examples/s]"
      ]
     },
     "metadata": {},
     "output_type": "display_data"
    },
    {
     "data": {
      "application/vnd.jupyter.widget-view+json": {
       "model_id": "ad9e3c9f72d54361990e1df7bb118114",
       "version_major": 2,
       "version_minor": 0
      },
      "text/plain": [
       "Map:   0%|          | 0/1965 [00:00<?, ? examples/s]"
      ]
     },
     "metadata": {},
     "output_type": "display_data"
    }
   ],
   "source": [
    "def tokenize_func(examples):\n",
    "    return tokenizer(\n",
    "        examples[\"text\"], padding=\"max_length\", truncation=True\n",
    "        )\n",
    "\n",
    "tokenized_data = data_check_test.map(tokenize_func, batched=True)\n"
   ]
  },
  {
   "cell_type": "code",
   "execution_count": 7,
   "metadata": {},
   "outputs": [
    {
     "name": "stdout",
     "output_type": "stream",
     "text": [
      "DatasetDict({\n",
      "    train: Dataset({\n",
      "        features: ['labels', 'input_ids', 'attention_mask'],\n",
      "        num_rows: 1965\n",
      "    })\n",
      "    test: Dataset({\n",
      "        features: ['labels', 'input_ids', 'attention_mask'],\n",
      "        num_rows: 1965\n",
      "    })\n",
      "})\n"
     ]
    }
   ],
   "source": [
    "# Prepare for torch\n",
    "from torch.utils.data import DataLoader\n",
    "\n",
    "tokenized_data = tokenized_data.remove_columns([\n",
    "    \"text\", \"case_id\", \"templ_id\", \"test_group_id\", \"target\", \"functionality\", \"set\", \"unrealistic_flags\", \"included_in_test_suite\"])\n",
    "\n",
    "tokenized_data = tokenized_data.rename_column(\"label_gold\", \"labels\")\n",
    "tokenized_data.set_format(\"torch\")\n",
    "\n",
    "print(tokenized_data)\n"
   ]
  },
  {
   "cell_type": "code",
   "execution_count": 8,
   "metadata": {},
   "outputs": [
    {
     "name": "stdout",
     "output_type": "stream",
     "text": [
      "dict_keys(['labels', 'input_ids', 'attention_mask'])\n"
     ]
    }
   ],
   "source": [
    "\n",
    "train_dataloader = DataLoader(\n",
    "    tokenized_data['train'], batch_size=64, shuffle=True)\n",
    "test_dataloader = DataLoader(tokenized_data['test'], batch_size=64)\n",
    "\n",
    "dataiter = iter(test_dataloader)\n",
    "batch_data= next(dataiter)\n",
    "\n",
    "print(batch_data.keys())"
   ]
  },
  {
   "cell_type": "markdown",
   "metadata": {},
   "source": [
    "### fine-tuning"
   ]
  },
  {
   "cell_type": "code",
   "execution_count": 9,
   "metadata": {},
   "outputs": [
    {
     "data": {
      "application/vnd.jupyter.widget-view+json": {
       "model_id": "9a2ec8cc17b24d1cb70676df24159c51",
       "version_major": 2,
       "version_minor": 0
      },
      "text/plain": [
       "  0%|          | 0/31 [00:00<?, ?it/s]"
      ]
     },
     "metadata": {},
     "output_type": "display_data"
    },
    {
     "data": {
      "application/vnd.jupyter.widget-view+json": {
       "model_id": "1ec0302047a7441881eecf401a1b1dc3",
       "version_major": 2,
       "version_minor": 0
      },
      "text/plain": [
       "  0%|          | 0/31 [00:00<?, ?it/s]"
      ]
     },
     "metadata": {},
     "output_type": "display_data"
    },
    {
     "name": "stdout",
     "output_type": "stream",
     "text": [
      "Epoch 1 accuracy: train=0.617, test=0.659\n"
     ]
    },
    {
     "data": {
      "application/vnd.jupyter.widget-view+json": {
       "model_id": "9e5905ab747244d2a008c7ff49dc4e19",
       "version_major": 2,
       "version_minor": 0
      },
      "text/plain": [
       "  0%|          | 0/31 [00:00<?, ?it/s]"
      ]
     },
     "metadata": {},
     "output_type": "display_data"
    },
    {
     "data": {
      "application/vnd.jupyter.widget-view+json": {
       "model_id": "d42edf4bba604f97a43bb307318685d3",
       "version_major": 2,
       "version_minor": 0
      },
      "text/plain": [
       "  0%|          | 0/31 [00:00<?, ?it/s]"
      ]
     },
     "metadata": {},
     "output_type": "display_data"
    },
    {
     "name": "stdout",
     "output_type": "stream",
     "text": [
      "Epoch 2 accuracy: train=0.661, test=0.681\n"
     ]
    },
    {
     "data": {
      "application/vnd.jupyter.widget-view+json": {
       "model_id": "7774b8e9d3a54e76a6c8b4bc82547d07",
       "version_major": 2,
       "version_minor": 0
      },
      "text/plain": [
       "  0%|          | 0/31 [00:00<?, ?it/s]"
      ]
     },
     "metadata": {},
     "output_type": "display_data"
    },
    {
     "data": {
      "application/vnd.jupyter.widget-view+json": {
       "model_id": "0636d0f5af0c45b3b69f558b61697204",
       "version_major": 2,
       "version_minor": 0
      },
      "text/plain": [
       "  0%|          | 0/31 [00:00<?, ?it/s]"
      ]
     },
     "metadata": {},
     "output_type": "display_data"
    },
    {
     "name": "stdout",
     "output_type": "stream",
     "text": [
      "Epoch 3 accuracy: train=0.670, test=0.681\n"
     ]
    },
    {
     "data": {
      "application/vnd.jupyter.widget-view+json": {
       "model_id": "5ae670de542743f690cf9cfa4e2e9b59",
       "version_major": 2,
       "version_minor": 0
      },
      "text/plain": [
       "  0%|          | 0/31 [00:00<?, ?it/s]"
      ]
     },
     "metadata": {},
     "output_type": "display_data"
    },
    {
     "data": {
      "application/vnd.jupyter.widget-view+json": {
       "model_id": "e151a9607f4e4f869cc0c19859611330",
       "version_major": 2,
       "version_minor": 0
      },
      "text/plain": [
       "  0%|          | 0/31 [00:00<?, ?it/s]"
      ]
     },
     "metadata": {},
     "output_type": "display_data"
    },
    {
     "name": "stdout",
     "output_type": "stream",
     "text": [
      "Epoch 4 accuracy: train=0.669, test=0.681\n"
     ]
    }
   ],
   "source": [
    "from tqdm.auto import tqdm\n",
    "import evaluate\n",
    "import matplotlib.pyplot as plt\n",
    "from transformers import get_scheduler\n",
    "from torch.optim import AdamW\n",
    "\n",
    "def train_epoch(model, train_dataloader, optimizer, lr_scheduler):\n",
    "    progress_bar = tqdm(range(len(train_dataloader)))\n",
    "    metric = evaluate.load(\"accuracy\")\n",
    "    model.train()\n",
    "    criterion = torch.nn.CrossEntropyLoss()\n",
    "\n",
    "    epoch_loss = 0\n",
    "    for batch in train_dataloader:\n",
    "        batch = {k: v.to(device) for k, v in batch.items()}\n",
    "\n",
    "        outputs = model(**batch)\n",
    "        logits = outputs.logits\n",
    "        loss = criterion(logits, batch[\"labels\"])\n",
    "        \n",
    "        loss.backward()\n",
    "        optimizer.step()\n",
    "        \n",
    "        optimizer.zero_grad()\n",
    "        \n",
    "        predictions = torch.argmax(logits, dim=-1)\n",
    "        \n",
    "        metric.add_batch(predictions=predictions, references=batch[\"labels\"])\n",
    "\n",
    "        epoch_loss += loss.item()\n",
    "        progress_bar.update(1)\n",
    "    \n",
    "    lr_scheduler.step()\n",
    "    epoch_loss /= len(test_dataloader)\n",
    "    accuracy = metric.compute()['accuracy']\n",
    "\n",
    "    return epoch_loss, accuracy\n",
    "\n",
    "def eval(model, test_dataloader):\n",
    "    progress_bar = tqdm(range(len(test_dataloader)))\n",
    "    metric = evaluate.load(\"accuracy\")\n",
    "    model.eval()\n",
    "    model.mega.requires_grad_(False)\n",
    "    criterion = torch.nn.CrossEntropyLoss()\n",
    "\n",
    "    epoch_loss = 0\n",
    "    for batch in test_dataloader:\n",
    "        batch = {k: v.to(device) for k, v in batch.items()}\n",
    "        with torch.no_grad():\n",
    "            outputs = model(**batch)\n",
    "\n",
    "        logits = outputs.logits\n",
    "        loss = criterion(logits, batch[\"labels\"])\n",
    "\n",
    "        predictions = torch.argmax(logits, dim=-1)\n",
    "\n",
    "        metric.add_batch(predictions=predictions, references=batch[\"labels\"])\n",
    "\n",
    "        epoch_loss += loss.item()\n",
    "        progress_bar.update(1)\n",
    "\n",
    "    epoch_loss /= len(test_dataloader)\n",
    "    accuracy = metric.compute()['accuracy']\n",
    "    \n",
    "    return epoch_loss, accuracy\n",
    "\n",
    "def train(model,\n",
    "          train_dataloader,\n",
    "          test_dataloader,\n",
    "          num_epochs=2,\n",
    "          learning_rate=5e-5,\n",
    "          patience=2):\n",
    "\n",
    "    # count epochs where the model didn't improve\n",
    "    counter = 0\n",
    "    best_val_acc = 0\n",
    "    best_epoch = 0\n",
    "    best_model = None\n",
    "\n",
    "    optimizer = AdamW(model.parameters(), lr=learning_rate)\n",
    "\n",
    "    # feel free to experiment with different num_warmup_steps\n",
    "    lr_scheduler = get_scheduler(\n",
    "        name=\"linear\", optimizer=optimizer, num_warmup_steps=1,     num_training_steps=num_epochs*len(train_dataloader)\n",
    "    )\n",
    "    train_accuracies = []\n",
    "    val_accuracies = []\n",
    "    train_losses = []\n",
    "    val_losses = []\n",
    "    for epoch in range(num_epochs):\n",
    "        train_loss, train_acc = train_epoch(\n",
    "            model, train_dataloader, optimizer, lr_scheduler)\n",
    "        val_loss, val_acc = eval(model, test_dataloader)\n",
    "\n",
    "        print(f\"Epoch {epoch+1} accuracy: train={train_acc:.3f}, test={val_acc:.3f}\")\n",
    "\n",
    "        train_accuracies.append(train_acc)\n",
    "        val_accuracies.append(val_acc)\n",
    "\n",
    "        train_losses.append(train_loss)\n",
    "        val_losses.append(val_loss)\n",
    "\n",
    "        # early stopping\n",
    "        # TODO: check if val_acc <= best_val_acc + some minimum increase\n",
    "        if val_acc <= best_val_acc:\n",
    "            counter += 1\n",
    "            if counter >= patience:\n",
    "                break\n",
    "        else:\n",
    "            best_val_acc = val_acc\n",
    "            counter = 0\n",
    "            best_epoch = epoch\n",
    "            best_model = model.state_dict()\n",
    "\n",
    "    return train_accuracies, val_accuracies, train_losses, val_losses, best_epoch, best_model\n",
    "\n",
    "model.mega.requires_grad_(False)\n",
    "train_acc, val_acc, train_losses, val_losses, best_epoch, best_model = train(model, train_dataloader, test_dataloader, 5, learning_rate=5e-5)"
   ]
  },
  {
   "cell_type": "code",
   "execution_count": 10,
   "metadata": {},
   "outputs": [
    {
     "data": {
      "image/png": "[encoded data removed]",
      "text/plain": [
       "<Figure size 1000x400 with 2 Axes>"
      ]
     },
     "metadata": {},
     "output_type": "display_data"
    }
   ],
   "source": [
    "fig, ax = plt.subplots(1,2, figsize=(10,4))\n",
    "epoch_axis = range(1, len(train_losses)+1)\n",
    "ax[0].plot(epoch_axis, train_losses, label='train')\n",
    "ax[0].plot(epoch_axis, val_losses, label='val')\n",
    "ax[0].axvline(best_epoch+1, label='best', linestyle='--')\n",
    "ax[0].set_xlabel(\"Epoch\")\n",
    "ax[0].set_ylabel(\"Loss\")\n",
    "ax[0].set_xticks(epoch_axis)\n",
    "ax[0].legend()\n",
    "\n",
    "ax[1].plot(epoch_axis, train_acc, label='train')\n",
    "ax[1].plot(epoch_axis, val_acc, label='val')\n",
    "ax[1].axvline(best_epoch+1, label='best', linestyle='--')\n",
    "ax[1].set_xlabel(\"Epoch\")\n",
    "ax[1].set_ylabel(\"Accuracy\")\n",
    "ax[1].set_xticks(epoch_axis)\n",
    "ax[1].legend()\n",
    "plt.show()"
   ]
  },
  {
   "cell_type": "markdown",
   "metadata": {},
   "source": [
    "### Evaluating"
   ]
  },
  {
   "cell_type": "markdown",
   "metadata": {},
   "source": [
    "with `model.mega.requires_grad_(False)` : 68.2 % accuracy\n",
    "\n",
    "without: 70.3 % accuarcy"
   ]
  },
  {
   "cell_type": "code",
   "execution_count": null,
   "metadata": {},
   "outputs": [],
   "source": []
  }
 ],
 "metadata": {
  "kernelspec": {
   "display_name": "Python 3",
   "language": "python",
   "name": "python3"
  },
  "language_info": {
   "codemirror_mode": {
    "name": "ipython",
    "version": 3
   },
   "file_extension": ".py",
   "mimetype": "text/x-python",
   "name": "python",
   "nbconvert_exporter": "python",
   "pygments_lexer": "ipython3",
   "version": "3.12.0"
  }
 },
 "nbformat": 4,
 "nbformat_minor": 2
}
