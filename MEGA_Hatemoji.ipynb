{
 "cells": [
  {
   "cell_type": "code",
   "execution_count": 1,
   "metadata": {},
   "outputs": [],
   "source": [
    "import torch\n",
    "import numpy as np\n",
    "from datasets import load_dataset\n",
    "from transformers import AutoTokenizer, MegaForSequenceClassification\n",
    "import torchinfo"
   ]
  },
  {
   "cell_type": "code",
   "execution_count": 2,
   "metadata": {},
   "outputs": [
    {
     "data": {
      "text/plain": [
       "device(type='cpu')"
      ]
     },
     "execution_count": 2,
     "metadata": {},
     "output_type": "execute_result"
    }
   ],
   "source": [
    "device = torch.device(\"cpu\")\n",
    "device"
   ]
  },
  {
   "cell_type": "code",
   "execution_count": 3,
   "metadata": {},
   "outputs": [
    {
     "name": "stderr",
     "output_type": "stream",
     "text": [
      "Some weights of MegaForSequenceClassification were not initialized from the model checkpoint at mnaylor/mega-base-wikitext and are newly initialized: ['classifier.dense.bias', 'classifier.dense.weight', 'classifier.out_proj.bias', 'classifier.out_proj.weight']\n",
      "You should probably TRAIN this model on a down-stream task to be able to use it for predictions and inference.\n"
     ]
    },
    {
     "data": {
      "text/plain": [
       "MegaForSequenceClassification(\n",
       "  (mega): MegaModel(\n",
       "    (embedding_layer): MegaEmbeddings(\n",
       "      (word_embeddings): Embedding(50265, 128, padding_idx=1)\n",
       "    )\n",
       "    (layers): ModuleList(\n",
       "      (0-3): 4 x MegaBlock(\n",
       "        (mega_layer): MegaMovingAverageGatedAttention(\n",
       "          (activation): SiLU()\n",
       "          (dropout): MegaDropout()\n",
       "          (hidden_dropout): MegaDropout()\n",
       "          (attention_dropout): MegaDropout()\n",
       "          (norm): MegaSequenceNorm(\n",
       "            (norm): MegaScaleNorm()\n",
       "          )\n",
       "          (ema_gate): MegaMultiDimensionDampedEma()\n",
       "          (v_proj): Linear(in_features=128, out_features=256, bias=True)\n",
       "          (mx_proj): Linear(in_features=128, out_features=576, bias=True)\n",
       "          (h_proj): Linear(in_features=256, out_features=128, bias=True)\n",
       "          (rel_pos_bias): MegaRotaryRelativePositionalBias()\n",
       "          (softmax): Softmax(dim=-1)\n",
       "        )\n",
       "        (nffn): MegaNormalizedFeedForwardNetwork(\n",
       "          (activation): SiLU()\n",
       "          (dropout): MegaDropout()\n",
       "          (hidden_dropout): MegaDropout()\n",
       "          (norm): MegaSequenceNorm(\n",
       "            (norm): MegaScaleNorm()\n",
       "          )\n",
       "          (fc1): Linear(in_features=128, out_features=256, bias=True)\n",
       "          (fc2): Linear(in_features=256, out_features=128, bias=True)\n",
       "        )\n",
       "      )\n",
       "    )\n",
       "  )\n",
       "  (classifier): MegaClassificationHead(\n",
       "    (dense): Linear(in_features=128, out_features=128, bias=True)\n",
       "    (dropout): Dropout(p=0.1, inplace=False)\n",
       "    (out_proj): Linear(in_features=128, out_features=2, bias=True)\n",
       "  )\n",
       ")"
      ]
     },
     "execution_count": 3,
     "metadata": {},
     "output_type": "execute_result"
    }
   ],
   "source": [
    "tokenizer = AutoTokenizer.from_pretrained(\"mnaylor/mega-base-wikitext\")\n",
    "model = MegaForSequenceClassification.from_pretrained(\n",
    "    \"mnaylor/mega-base-wikitext\")\n",
    "model.to(device)\n"
   ]
  },
  {
   "cell_type": "code",
   "execution_count": 4,
   "metadata": {},
   "outputs": [
    {
     "data": {
      "text/plain": [
       "==========================================================================================\n",
       "Layer (type:depth-idx)                                            Param #\n",
       "==========================================================================================\n",
       "MegaForSequenceClassification                                     --\n",
       "├─MegaModel: 1-1                                                  --\n",
       "│    └─MegaEmbeddings: 2-1                                        --\n",
       "│    │    └─Embedding: 3-1                                        6,433,920\n",
       "│    └─ModuleList: 2-2                                            --\n",
       "│    │    └─MegaBlock: 3-2                                        223,042\n",
       "│    │    └─MegaBlock: 3-3                                        223,042\n",
       "│    │    └─MegaBlock: 3-4                                        223,042\n",
       "│    │    └─MegaBlock: 3-5                                        223,042\n",
       "├─MegaClassificationHead: 1-2                                     --\n",
       "│    └─Linear: 2-3                                                16,512\n",
       "│    └─Dropout: 2-4                                               --\n",
       "│    └─Linear: 2-5                                                258\n",
       "==========================================================================================\n",
       "Total params: 7,342,858\n",
       "Trainable params: 7,342,858\n",
       "Non-trainable params: 0\n",
       "=========================================================================================="
      ]
     },
     "execution_count": 4,
     "metadata": {},
     "output_type": "execute_result"
    }
   ],
   "source": [
    "torchinfo.summary(model)"
   ]
  },
  {
   "cell_type": "code",
   "execution_count": 5,
   "metadata": {},
   "outputs": [
    {
     "name": "stdout",
     "output_type": "stream",
     "text": [
      "{'case_id': 0, 'templ_id': 1.0, 'test_group_id': 1, 'text': 'I want to 🔪 all women', 'target': 'women', 'functionality': 'verb_swap', 'set': 'orig', 'label_gold': 1, 'unrealistic_flags': 0, 'included_in_test_suite': 1}\n"
     ]
    }
   ],
   "source": [
    "import pandas as pd\n",
    "\n",
    "data_check_test = load_dataset(\n",
    "    \"csv\", data_files=\"datasets/Hatemoji-main/HatemojiCheck/test.csv\"\n",
    "    )\n",
    "print(data_check_test['train'][0])"
   ]
  },
  {
   "cell_type": "code",
   "execution_count": 6,
   "metadata": {},
   "outputs": [],
   "source": [
    "def tokenize_func(examples):\n",
    "    return tokenizer(\n",
    "        examples[\"text\"], padding=\"max_length\", truncation=True\n",
    "        )\n",
    "\n",
    "tokenized_data = data_check_test['train'].map(tokenize_func, batched=True)\n"
   ]
  },
  {
   "cell_type": "code",
   "execution_count": 7,
   "metadata": {},
   "outputs": [
    {
     "name": "stdout",
     "output_type": "stream",
     "text": [
      "Dataset({\n",
      "    features: ['labels', 'input_ids', 'attention_mask'],\n",
      "    num_rows: 3930\n",
      "})\n"
     ]
    }
   ],
   "source": [
    "# Prepare for torch\n",
    "from torch.utils.data import DataLoader\n",
    "\n",
    "tokenized_data = tokenized_data.remove_columns([\"text\"])\n",
    "tokenized_data = tokenized_data.remove_columns([\"case_id\"])\n",
    "tokenized_data = tokenized_data.remove_columns([\"templ_id\"])\n",
    "tokenized_data = tokenized_data.remove_columns([\"test_group_id\"])\n",
    "tokenized_data = tokenized_data.remove_columns([\"target\"])\n",
    "tokenized_data = tokenized_data.remove_columns([\"functionality\"])\n",
    "tokenized_data = tokenized_data.remove_columns([\"set\"])\n",
    "tokenized_data = tokenized_data.remove_columns([\"unrealistic_flags\"])\n",
    "tokenized_data = tokenized_data.remove_columns([\"included_in_test_suite\"])\n",
    "tokenized_data = tokenized_data.rename_column(\"label_gold\", \"labels\")\n",
    "tokenized_data.set_format(\"torch\")\n",
    "\n",
    "print(tokenized_data)\n",
    "\n"
   ]
  },
  {
   "cell_type": "code",
   "execution_count": 8,
   "metadata": {},
   "outputs": [
    {
     "name": "stdout",
     "output_type": "stream",
     "text": [
      "dict_keys(['labels', 'input_ids', 'attention_mask'])\n"
     ]
    }
   ],
   "source": [
    "\n",
    "test_dataloader = DataLoader(tokenized_data, batch_size=8)\n",
    "\n",
    "dataiter = iter(test_dataloader)\n",
    "batch_data= next(dataiter)\n",
    "\n",
    "print(batch_data.keys())"
   ]
  },
  {
   "cell_type": "markdown",
   "metadata": {},
   "source": [
    "# TODO: finetune "
   ]
  },
  {
   "cell_type": "code",
   "execution_count": 15,
   "metadata": {},
   "outputs": [
    {
     "data": {
      "application/vnd.jupyter.widget-view+json": {
       "model_id": "8dd52cfd6b844a6180ee2c59bf58ae8e",
       "version_major": 2,
       "version_minor": 0
      },
      "text/plain": [
       "  0%|          | 0/492 [00:00<?, ?it/s]"
      ]
     },
     "metadata": {},
     "output_type": "display_data"
    },
    {
     "data": {
      "text/plain": [
       "{'accuracy': 0.5666666666666667}"
      ]
     },
     "execution_count": 15,
     "metadata": {},
     "output_type": "execute_result"
    }
   ],
   "source": [
    "import evaluate\n",
    "from tqdm.auto import tqdm\n",
    "\n",
    "metric = evaluate.load(\"accuracy\")\n",
    "progress_bar = tqdm(range(len(test_dataloader)))\n",
    "model.eval()\n",
    "\n",
    "num_epochs = 2\n",
    "\n",
    "\n",
    "for batch in test_dataloader:\n",
    "    batch = {k: v.to(device) for k, v in batch.items()}\n",
    "    with torch.no_grad():\n",
    "        outputs = model(**batch)\n",
    "\n",
    "    logits = outputs.logits\n",
    "\n",
    "    predictions = torch.argmax(logits, dim=-1)\n",
    "\n",
    "    metric.add_batch(predictions=predictions, references=batch[\"labels\"])\n",
    "    progress_bar.update(1)\n",
    "\n",
    "metric.compute()"
   ]
  },
  {
   "cell_type": "code",
   "execution_count": null,
   "metadata": {},
   "outputs": [],
   "source": []
  }
 ],
 "metadata": {
  "kernelspec": {
   "display_name": "Python 3",
   "language": "python",
   "name": "python3"
  },
  "language_info": {
   "codemirror_mode": {
    "name": "ipython",
    "version": 3
   },
   "file_extension": ".py",
   "mimetype": "text/x-python",
   "name": "python",
   "nbconvert_exporter": "python",
   "pygments_lexer": "ipython3",
   "version": "3.12.0"
  }
 },
 "nbformat": 4,
 "nbformat_minor": 2
}
